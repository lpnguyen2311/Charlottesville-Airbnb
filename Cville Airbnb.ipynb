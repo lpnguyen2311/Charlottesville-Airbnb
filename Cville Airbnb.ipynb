{
 "cells": [
  {
   "cell_type": "markdown",
   "metadata": {},
   "source": [
    "# Clean data"
   ]
  },
  {
   "cell_type": "code",
   "execution_count": 57,
   "metadata": {},
   "outputs": [],
   "source": [
    "import pandas as pd\n",
    "import numpy as np"
   ]
  },
  {
   "cell_type": "code",
   "execution_count": 58,
   "metadata": {},
   "outputs": [
    {
     "data": {
      "text/html": [
       "<div>\n",
       "<style scoped>\n",
       "    .dataframe tbody tr th:only-of-type {\n",
       "        vertical-align: middle;\n",
       "    }\n",
       "\n",
       "    .dataframe tbody tr th {\n",
       "        vertical-align: top;\n",
       "    }\n",
       "\n",
       "    .dataframe thead th {\n",
       "        text-align: right;\n",
       "    }\n",
       "</style>\n",
       "<table border=\"1\" class=\"dataframe\">\n",
       "  <thead>\n",
       "    <tr style=\"text-align: right;\">\n",
       "      <th></th>\n",
       "      <th>Host ID</th>\n",
       "      <th>Listing ID</th>\n",
       "      <th>Room Type</th>\n",
       "      <th>Num Reviews</th>\n",
       "      <th>Average Rating</th>\n",
       "      <th>Bedrooms and Max Guests</th>\n",
       "      <th>Price</th>\n",
       "      <th>lat</th>\n",
       "      <th>long</th>\n",
       "      <th>Neighborhood</th>\n",
       "      <th>City</th>\n",
       "    </tr>\n",
       "  </thead>\n",
       "  <tbody>\n",
       "    <tr>\n",
       "      <th>0</th>\n",
       "      <td>14284600.0</td>\n",
       "      <td>6348847.0</td>\n",
       "      <td>Private room</td>\n",
       "      <td>0.0</td>\n",
       "      <td>0.0</td>\n",
       "      <td>1; 1</td>\n",
       "      <td>141.0</td>\n",
       "      <td>38.033436</td>\n",
       "      <td>-78.492183</td>\n",
       "      <td>10th &amp; Page</td>\n",
       "      <td>Charlottesville</td>\n",
       "    </tr>\n",
       "    <tr>\n",
       "      <th>1</th>\n",
       "      <td>33374506.0</td>\n",
       "      <td>6400414.0</td>\n",
       "      <td>Private room</td>\n",
       "      <td>0.0</td>\n",
       "      <td>0.0</td>\n",
       "      <td>1; 2</td>\n",
       "      <td>164.0</td>\n",
       "      <td>38.032976</td>\n",
       "      <td>-78.496778</td>\n",
       "      <td>10th &amp; Page</td>\n",
       "      <td>Charlottesville</td>\n",
       "    </tr>\n",
       "    <tr>\n",
       "      <th>2</th>\n",
       "      <td>15139610.0</td>\n",
       "      <td>4024562.0</td>\n",
       "      <td>Entire home/apt</td>\n",
       "      <td>0.0</td>\n",
       "      <td>0.0</td>\n",
       "      <td>2; 4</td>\n",
       "      <td>136.0</td>\n",
       "      <td>38.048887</td>\n",
       "      <td>-78.494272</td>\n",
       "      <td>Barracks/Rugby</td>\n",
       "      <td>Charlottesville</td>\n",
       "    </tr>\n",
       "    <tr>\n",
       "      <th>3</th>\n",
       "      <td>20591443.0</td>\n",
       "      <td>11151751.0</td>\n",
       "      <td>Entire home/apt</td>\n",
       "      <td>1.0</td>\n",
       "      <td>0.0</td>\n",
       "      <td>4; 6</td>\n",
       "      <td>105.0</td>\n",
       "      <td>38.043018</td>\n",
       "      <td>-78.485079</td>\n",
       "      <td>Barracks/Rugby</td>\n",
       "      <td>Charlottesville</td>\n",
       "    </tr>\n",
       "    <tr>\n",
       "      <th>4</th>\n",
       "      <td>24936886.0</td>\n",
       "      <td>12724147.0</td>\n",
       "      <td>Entire home/apt</td>\n",
       "      <td>1.0</td>\n",
       "      <td>0.0</td>\n",
       "      <td>1; 2</td>\n",
       "      <td>234.0</td>\n",
       "      <td>38.045126</td>\n",
       "      <td>-78.488286</td>\n",
       "      <td>Barracks/Rugby</td>\n",
       "      <td>Charlottesville</td>\n",
       "    </tr>\n",
       "  </tbody>\n",
       "</table>\n",
       "</div>"
      ],
      "text/plain": [
       "      Host ID  Listing ID         Room Type  Num Reviews  Average Rating  \\\n",
       "0  14284600.0   6348847.0   Private room             0.0             0.0   \n",
       "1  33374506.0   6400414.0      Private room          0.0             0.0   \n",
       "2  15139610.0   4024562.0  Entire home/apt           0.0             0.0   \n",
       "3  20591443.0  11151751.0   Entire home/apt          1.0             0.0   \n",
       "4  24936886.0  12724147.0   Entire home/apt          1.0             0.0   \n",
       "\n",
       "  Bedrooms and Max Guests  Price        lat       long    Neighborhood  \\\n",
       "0                    1; 1  141.0  38.033436 -78.492183     10th & Page   \n",
       "1                    1; 2  164.0  38.032976 -78.496778     10th & Page   \n",
       "2                    2; 4  136.0  38.048887 -78.494272  Barracks/Rugby   \n",
       "3                    4; 6  105.0  38.043018 -78.485079  Barracks/Rugby   \n",
       "4                    1; 2  234.0  38.045126 -78.488286  Barracks/Rugby   \n",
       "\n",
       "              City  \n",
       "0  Charlottesville  \n",
       "1  Charlottesville  \n",
       "2  Charlottesville  \n",
       "3  Charlottesville  \n",
       "4  Charlottesville  "
      ]
     },
     "execution_count": 58,
     "metadata": {},
     "output_type": "execute_result"
    }
   ],
   "source": [
    "df=pd.read_excel(r'Downloads\\cvilleairbnb.xlsx', sheet_name='airbnb')\n",
    "\n",
    "df.head()"
   ]
  },
  {
   "cell_type": "code",
   "execution_count": 59,
   "metadata": {},
   "outputs": [
    {
     "name": "stdout",
     "output_type": "stream",
     "text": [
      "<class 'pandas.core.frame.DataFrame'>\n",
      "RangeIndex: 408 entries, 0 to 407\n",
      "Data columns (total 11 columns):\n",
      " #   Column                   Non-Null Count  Dtype  \n",
      "---  ------                   --------------  -----  \n",
      " 0   Host ID                  407 non-null    float64\n",
      " 1   Listing ID               407 non-null    float64\n",
      " 2   Room Type                407 non-null    object \n",
      " 3   Num Reviews              407 non-null    float64\n",
      " 4   Average Rating           407 non-null    float64\n",
      " 5   Bedrooms and Max Guests  407 non-null    object \n",
      " 6   Price                    407 non-null    float64\n",
      " 7   lat                      407 non-null    float64\n",
      " 8   long                     407 non-null    float64\n",
      " 9   Neighborhood             407 non-null    object \n",
      " 10  City                     407 non-null    object \n",
      "dtypes: float64(7), object(4)\n",
      "memory usage: 28.8+ KB\n"
     ]
    }
   ],
   "source": [
    "df.info()"
   ]
  },
  {
   "cell_type": "code",
   "execution_count": 60,
   "metadata": {},
   "outputs": [],
   "source": [
    "df[['Bedrooms', 'Max Guests']]=df['Bedrooms and Max Guests'].str.split(';',expand=True)"
   ]
  },
  {
   "cell_type": "code",
   "execution_count": 61,
   "metadata": {},
   "outputs": [
    {
     "data": {
      "text/html": [
       "<div>\n",
       "<style scoped>\n",
       "    .dataframe tbody tr th:only-of-type {\n",
       "        vertical-align: middle;\n",
       "    }\n",
       "\n",
       "    .dataframe tbody tr th {\n",
       "        vertical-align: top;\n",
       "    }\n",
       "\n",
       "    .dataframe thead th {\n",
       "        text-align: right;\n",
       "    }\n",
       "</style>\n",
       "<table border=\"1\" class=\"dataframe\">\n",
       "  <thead>\n",
       "    <tr style=\"text-align: right;\">\n",
       "      <th></th>\n",
       "      <th>Host ID</th>\n",
       "      <th>Listing ID</th>\n",
       "      <th>Room Type</th>\n",
       "      <th>Num Reviews</th>\n",
       "      <th>Average Rating</th>\n",
       "      <th>Price</th>\n",
       "      <th>lat</th>\n",
       "      <th>long</th>\n",
       "      <th>Neighborhood</th>\n",
       "      <th>City</th>\n",
       "      <th>Bedrooms</th>\n",
       "      <th>Max Guests</th>\n",
       "    </tr>\n",
       "  </thead>\n",
       "  <tbody>\n",
       "    <tr>\n",
       "      <th>0</th>\n",
       "      <td>14284600.0</td>\n",
       "      <td>6348847.0</td>\n",
       "      <td>Private room</td>\n",
       "      <td>0.0</td>\n",
       "      <td>0.0</td>\n",
       "      <td>141.0</td>\n",
       "      <td>38.033436</td>\n",
       "      <td>-78.492183</td>\n",
       "      <td>10th &amp; Page</td>\n",
       "      <td>Charlottesville</td>\n",
       "      <td>1</td>\n",
       "      <td>1</td>\n",
       "    </tr>\n",
       "    <tr>\n",
       "      <th>1</th>\n",
       "      <td>33374506.0</td>\n",
       "      <td>6400414.0</td>\n",
       "      <td>Private room</td>\n",
       "      <td>0.0</td>\n",
       "      <td>0.0</td>\n",
       "      <td>164.0</td>\n",
       "      <td>38.032976</td>\n",
       "      <td>-78.496778</td>\n",
       "      <td>10th &amp; Page</td>\n",
       "      <td>Charlottesville</td>\n",
       "      <td>1</td>\n",
       "      <td>2</td>\n",
       "    </tr>\n",
       "    <tr>\n",
       "      <th>2</th>\n",
       "      <td>15139610.0</td>\n",
       "      <td>4024562.0</td>\n",
       "      <td>Entire home/apt</td>\n",
       "      <td>0.0</td>\n",
       "      <td>0.0</td>\n",
       "      <td>136.0</td>\n",
       "      <td>38.048887</td>\n",
       "      <td>-78.494272</td>\n",
       "      <td>Barracks/Rugby</td>\n",
       "      <td>Charlottesville</td>\n",
       "      <td>2</td>\n",
       "      <td>4</td>\n",
       "    </tr>\n",
       "    <tr>\n",
       "      <th>3</th>\n",
       "      <td>20591443.0</td>\n",
       "      <td>11151751.0</td>\n",
       "      <td>Entire home/apt</td>\n",
       "      <td>1.0</td>\n",
       "      <td>0.0</td>\n",
       "      <td>105.0</td>\n",
       "      <td>38.043018</td>\n",
       "      <td>-78.485079</td>\n",
       "      <td>Barracks/Rugby</td>\n",
       "      <td>Charlottesville</td>\n",
       "      <td>4</td>\n",
       "      <td>6</td>\n",
       "    </tr>\n",
       "    <tr>\n",
       "      <th>4</th>\n",
       "      <td>24936886.0</td>\n",
       "      <td>12724147.0</td>\n",
       "      <td>Entire home/apt</td>\n",
       "      <td>1.0</td>\n",
       "      <td>0.0</td>\n",
       "      <td>234.0</td>\n",
       "      <td>38.045126</td>\n",
       "      <td>-78.488286</td>\n",
       "      <td>Barracks/Rugby</td>\n",
       "      <td>Charlottesville</td>\n",
       "      <td>1</td>\n",
       "      <td>2</td>\n",
       "    </tr>\n",
       "  </tbody>\n",
       "</table>\n",
       "</div>"
      ],
      "text/plain": [
       "      Host ID  Listing ID         Room Type  Num Reviews  Average Rating  \\\n",
       "0  14284600.0   6348847.0   Private room             0.0             0.0   \n",
       "1  33374506.0   6400414.0      Private room          0.0             0.0   \n",
       "2  15139610.0   4024562.0  Entire home/apt           0.0             0.0   \n",
       "3  20591443.0  11151751.0   Entire home/apt          1.0             0.0   \n",
       "4  24936886.0  12724147.0   Entire home/apt          1.0             0.0   \n",
       "\n",
       "   Price        lat       long    Neighborhood             City Bedrooms  \\\n",
       "0  141.0  38.033436 -78.492183     10th & Page  Charlottesville        1   \n",
       "1  164.0  38.032976 -78.496778     10th & Page  Charlottesville        1   \n",
       "2  136.0  38.048887 -78.494272  Barracks/Rugby  Charlottesville        2   \n",
       "3  105.0  38.043018 -78.485079  Barracks/Rugby  Charlottesville        4   \n",
       "4  234.0  38.045126 -78.488286  Barracks/Rugby  Charlottesville        1   \n",
       "\n",
       "  Max Guests  \n",
       "0          1  \n",
       "1          2  \n",
       "2          4  \n",
       "3          6  \n",
       "4          2  "
      ]
     },
     "execution_count": 61,
     "metadata": {},
     "output_type": "execute_result"
    }
   ],
   "source": [
    "df=df.drop(columns=['Bedrooms and Max Guests'])\n",
    "\n",
    "df.head()"
   ]
  },
  {
   "cell_type": "code",
   "execution_count": 62,
   "metadata": {},
   "outputs": [
    {
     "data": {
      "text/plain": [
       "(408, 12)"
      ]
     },
     "execution_count": 62,
     "metadata": {},
     "output_type": "execute_result"
    }
   ],
   "source": [
    "df.shape"
   ]
  },
  {
   "cell_type": "code",
   "execution_count": 63,
   "metadata": {},
   "outputs": [
    {
     "data": {
      "text/html": [
       "<div>\n",
       "<style scoped>\n",
       "    .dataframe tbody tr th:only-of-type {\n",
       "        vertical-align: middle;\n",
       "    }\n",
       "\n",
       "    .dataframe tbody tr th {\n",
       "        vertical-align: top;\n",
       "    }\n",
       "\n",
       "    .dataframe thead th {\n",
       "        text-align: right;\n",
       "    }\n",
       "</style>\n",
       "<table border=\"1\" class=\"dataframe\">\n",
       "  <thead>\n",
       "    <tr style=\"text-align: right;\">\n",
       "      <th></th>\n",
       "      <th>Host ID</th>\n",
       "      <th>Listing ID</th>\n",
       "      <th>Room Type</th>\n",
       "      <th>Num Reviews</th>\n",
       "      <th>Average Rating</th>\n",
       "      <th>Price</th>\n",
       "      <th>lat</th>\n",
       "      <th>long</th>\n",
       "      <th>Neighborhood</th>\n",
       "      <th>City</th>\n",
       "      <th>Bedrooms</th>\n",
       "      <th>Max Guests</th>\n",
       "    </tr>\n",
       "  </thead>\n",
       "  <tbody>\n",
       "    <tr>\n",
       "      <th>0</th>\n",
       "      <td>14284600.0</td>\n",
       "      <td>6348847.0</td>\n",
       "      <td>Private room</td>\n",
       "      <td>0.0</td>\n",
       "      <td>0.0</td>\n",
       "      <td>141.0</td>\n",
       "      <td>38.033436</td>\n",
       "      <td>-78.492183</td>\n",
       "      <td>10th &amp; Page</td>\n",
       "      <td>Charlottesville</td>\n",
       "      <td>1</td>\n",
       "      <td>1</td>\n",
       "    </tr>\n",
       "    <tr>\n",
       "      <th>1</th>\n",
       "      <td>33374506.0</td>\n",
       "      <td>6400414.0</td>\n",
       "      <td>Private room</td>\n",
       "      <td>0.0</td>\n",
       "      <td>0.0</td>\n",
       "      <td>164.0</td>\n",
       "      <td>38.032976</td>\n",
       "      <td>-78.496778</td>\n",
       "      <td>10th &amp; Page</td>\n",
       "      <td>Charlottesville</td>\n",
       "      <td>1</td>\n",
       "      <td>2</td>\n",
       "    </tr>\n",
       "    <tr>\n",
       "      <th>2</th>\n",
       "      <td>15139610.0</td>\n",
       "      <td>4024562.0</td>\n",
       "      <td>Entire home/apt</td>\n",
       "      <td>0.0</td>\n",
       "      <td>0.0</td>\n",
       "      <td>136.0</td>\n",
       "      <td>38.048887</td>\n",
       "      <td>-78.494272</td>\n",
       "      <td>Barracks/Rugby</td>\n",
       "      <td>Charlottesville</td>\n",
       "      <td>2</td>\n",
       "      <td>4</td>\n",
       "    </tr>\n",
       "    <tr>\n",
       "      <th>3</th>\n",
       "      <td>20591443.0</td>\n",
       "      <td>11151751.0</td>\n",
       "      <td>Entire home/apt</td>\n",
       "      <td>1.0</td>\n",
       "      <td>0.0</td>\n",
       "      <td>105.0</td>\n",
       "      <td>38.043018</td>\n",
       "      <td>-78.485079</td>\n",
       "      <td>Barracks/Rugby</td>\n",
       "      <td>Charlottesville</td>\n",
       "      <td>4</td>\n",
       "      <td>6</td>\n",
       "    </tr>\n",
       "    <tr>\n",
       "      <th>4</th>\n",
       "      <td>24936886.0</td>\n",
       "      <td>12724147.0</td>\n",
       "      <td>Entire home/apt</td>\n",
       "      <td>1.0</td>\n",
       "      <td>0.0</td>\n",
       "      <td>234.0</td>\n",
       "      <td>38.045126</td>\n",
       "      <td>-78.488286</td>\n",
       "      <td>Barracks/Rugby</td>\n",
       "      <td>Charlottesville</td>\n",
       "      <td>1</td>\n",
       "      <td>2</td>\n",
       "    </tr>\n",
       "    <tr>\n",
       "      <th>...</th>\n",
       "      <td>...</td>\n",
       "      <td>...</td>\n",
       "      <td>...</td>\n",
       "      <td>...</td>\n",
       "      <td>...</td>\n",
       "      <td>...</td>\n",
       "      <td>...</td>\n",
       "      <td>...</td>\n",
       "      <td>...</td>\n",
       "      <td>...</td>\n",
       "      <td>...</td>\n",
       "      <td>...</td>\n",
       "    </tr>\n",
       "    <tr>\n",
       "      <th>403</th>\n",
       "      <td>50109497.0</td>\n",
       "      <td>9704469.0</td>\n",
       "      <td>Entire home/apt</td>\n",
       "      <td>78.0</td>\n",
       "      <td>5.0</td>\n",
       "      <td>169.0</td>\n",
       "      <td>38.025363</td>\n",
       "      <td>-78.481303</td>\n",
       "      <td>Ridge Street</td>\n",
       "      <td>Charlottesville</td>\n",
       "      <td>2</td>\n",
       "      <td>4</td>\n",
       "    </tr>\n",
       "    <tr>\n",
       "      <th>404</th>\n",
       "      <td>98838371.0</td>\n",
       "      <td>15422219.0</td>\n",
       "      <td>Entire home/apt</td>\n",
       "      <td>95.0</td>\n",
       "      <td>5.0</td>\n",
       "      <td>99.0</td>\n",
       "      <td>38.032310</td>\n",
       "      <td>-78.480771</td>\n",
       "      <td>North Downtown</td>\n",
       "      <td>Charlottesville</td>\n",
       "      <td>1</td>\n",
       "      <td>4</td>\n",
       "    </tr>\n",
       "    <tr>\n",
       "      <th>405</th>\n",
       "      <td>76012521.0</td>\n",
       "      <td>13700617.0</td>\n",
       "      <td>Entire home/apt</td>\n",
       "      <td>100.0</td>\n",
       "      <td>5.0</td>\n",
       "      <td>85.0</td>\n",
       "      <td>38.013307</td>\n",
       "      <td>-78.516887</td>\n",
       "      <td>Fry Spring</td>\n",
       "      <td>Charlottesville</td>\n",
       "      <td>1</td>\n",
       "      <td>4</td>\n",
       "    </tr>\n",
       "    <tr>\n",
       "      <th>406</th>\n",
       "      <td>45859106.0</td>\n",
       "      <td>9212680.0</td>\n",
       "      <td>Entire home/apt</td>\n",
       "      <td>104.0</td>\n",
       "      <td>5.0</td>\n",
       "      <td>114.0</td>\n",
       "      <td>38.022185</td>\n",
       "      <td>-78.490090</td>\n",
       "      <td>Ridge Street</td>\n",
       "      <td>Charlottesville</td>\n",
       "      <td>1</td>\n",
       "      <td>4</td>\n",
       "    </tr>\n",
       "    <tr>\n",
       "      <th>407</th>\n",
       "      <td>57039412.0</td>\n",
       "      <td>12543849.0</td>\n",
       "      <td>Private room</td>\n",
       "      <td>131.0</td>\n",
       "      <td>5.0</td>\n",
       "      <td>55.0</td>\n",
       "      <td>38.034976</td>\n",
       "      <td>-78.492979</td>\n",
       "      <td>10th and Page</td>\n",
       "      <td>Charlottesville</td>\n",
       "      <td>1</td>\n",
       "      <td>2</td>\n",
       "    </tr>\n",
       "  </tbody>\n",
       "</table>\n",
       "<p>405 rows × 12 columns</p>\n",
       "</div>"
      ],
      "text/plain": [
       "        Host ID  Listing ID         Room Type  Num Reviews  Average Rating  \\\n",
       "0    14284600.0   6348847.0   Private room             0.0             0.0   \n",
       "1    33374506.0   6400414.0      Private room          0.0             0.0   \n",
       "2    15139610.0   4024562.0  Entire home/apt           0.0             0.0   \n",
       "3    20591443.0  11151751.0   Entire home/apt          1.0             0.0   \n",
       "4    24936886.0  12724147.0   Entire home/apt          1.0             0.0   \n",
       "..          ...         ...               ...          ...             ...   \n",
       "403  50109497.0   9704469.0   Entire home/apt         78.0             5.0   \n",
       "404  98838371.0  15422219.0   Entire home/apt         95.0             5.0   \n",
       "405  76012521.0  13700617.0   Entire home/apt        100.0             5.0   \n",
       "406  45859106.0   9212680.0   Entire home/apt        104.0             5.0   \n",
       "407  57039412.0  12543849.0      Private room        131.0             5.0   \n",
       "\n",
       "     Price        lat       long    Neighborhood             City Bedrooms  \\\n",
       "0    141.0  38.033436 -78.492183     10th & Page  Charlottesville        1   \n",
       "1    164.0  38.032976 -78.496778     10th & Page  Charlottesville        1   \n",
       "2    136.0  38.048887 -78.494272  Barracks/Rugby  Charlottesville        2   \n",
       "3    105.0  38.043018 -78.485079  Barracks/Rugby  Charlottesville        4   \n",
       "4    234.0  38.045126 -78.488286  Barracks/Rugby  Charlottesville        1   \n",
       "..     ...        ...        ...             ...              ...      ...   \n",
       "403  169.0  38.025363 -78.481303    Ridge Street  Charlottesville        2   \n",
       "404   99.0  38.032310 -78.480771  North Downtown  Charlottesville        1   \n",
       "405   85.0  38.013307 -78.516887      Fry Spring  Charlottesville        1   \n",
       "406  114.0  38.022185 -78.490090    Ridge Street  Charlottesville        1   \n",
       "407   55.0  38.034976 -78.492979   10th and Page  Charlottesville        1   \n",
       "\n",
       "    Max Guests  \n",
       "0            1  \n",
       "1            2  \n",
       "2            4  \n",
       "3            6  \n",
       "4            2  \n",
       "..         ...  \n",
       "403          4  \n",
       "404          4  \n",
       "405          4  \n",
       "406          4  \n",
       "407          2  \n",
       "\n",
       "[405 rows x 12 columns]"
      ]
     },
     "execution_count": 63,
     "metadata": {},
     "output_type": "execute_result"
    }
   ],
   "source": [
    "df.drop_duplicates()"
   ]
  },
  {
   "cell_type": "code",
   "execution_count": 64,
   "metadata": {},
   "outputs": [
    {
     "data": {
      "text/plain": [
       "10th & Page               8\n",
       "10th and Page             2\n",
       "Barracks Road             6\n",
       "Barracks/Rugby           26\n",
       "Belmont                  68\n",
       "Fifeville                35\n",
       "Fifeville                 1\n",
       "Fry Spring               12\n",
       "Fry's Spring             19\n",
       "Greenbrier                6\n",
       "Jefferson Park Ave        9\n",
       "Jefferson Park Avenue     6\n",
       "Johnson Village          16\n",
       "Lewis Mtn                13\n",
       "Locust Grove             34\n",
       "Martha Jefferson         26\n",
       "North Downtown           43\n",
       "Ridge Street             33\n",
       "Rose Hill                 1\n",
       "Starr Hill                3\n",
       "Venable                  24\n",
       "Woolen Mills             16\n",
       "Name: Neighborhood, dtype: int64"
      ]
     },
     "execution_count": 64,
     "metadata": {},
     "output_type": "execute_result"
    }
   ],
   "source": [
    "df.Neighborhood.value_counts().sort_index()"
   ]
  },
  {
   "cell_type": "code",
   "execution_count": 65,
   "metadata": {},
   "outputs": [
    {
     "data": {
      "text/html": [
       "<div>\n",
       "<style scoped>\n",
       "    .dataframe tbody tr th:only-of-type {\n",
       "        vertical-align: middle;\n",
       "    }\n",
       "\n",
       "    .dataframe tbody tr th {\n",
       "        vertical-align: top;\n",
       "    }\n",
       "\n",
       "    .dataframe thead th {\n",
       "        text-align: right;\n",
       "    }\n",
       "</style>\n",
       "<table border=\"1\" class=\"dataframe\">\n",
       "  <thead>\n",
       "    <tr style=\"text-align: right;\">\n",
       "      <th></th>\n",
       "      <th>Neighborhood</th>\n",
       "      <th>Livability Score</th>\n",
       "      <th>Walk Score</th>\n",
       "      <th>Transit Score</th>\n",
       "      <th>Bike Score</th>\n",
       "      <th>Population</th>\n",
       "    </tr>\n",
       "  </thead>\n",
       "  <tbody>\n",
       "    <tr>\n",
       "      <th>0</th>\n",
       "      <td>10th and Page</td>\n",
       "      <td>62</td>\n",
       "      <td>89.0</td>\n",
       "      <td>46.0</td>\n",
       "      <td>79.0</td>\n",
       "      <td>1105.0</td>\n",
       "    </tr>\n",
       "    <tr>\n",
       "      <th>1</th>\n",
       "      <td>Barracks Road</td>\n",
       "      <td>72</td>\n",
       "      <td>66.0</td>\n",
       "      <td>36.0</td>\n",
       "      <td>47.0</td>\n",
       "      <td>556.0</td>\n",
       "    </tr>\n",
       "    <tr>\n",
       "      <th>2</th>\n",
       "      <td>Barracks Rugby</td>\n",
       "      <td>82</td>\n",
       "      <td>39.0</td>\n",
       "      <td>30.0</td>\n",
       "      <td>43.0</td>\n",
       "      <td>2155.0</td>\n",
       "    </tr>\n",
       "    <tr>\n",
       "      <th>3</th>\n",
       "      <td>Belmont</td>\n",
       "      <td>77</td>\n",
       "      <td>64.0</td>\n",
       "      <td>40.0</td>\n",
       "      <td>58.0</td>\n",
       "      <td>4520.0</td>\n",
       "    </tr>\n",
       "    <tr>\n",
       "      <th>4</th>\n",
       "      <td>Fifeville</td>\n",
       "      <td>81</td>\n",
       "      <td>63.0</td>\n",
       "      <td>44.0</td>\n",
       "      <td>61.0</td>\n",
       "      <td>3565.0</td>\n",
       "    </tr>\n",
       "  </tbody>\n",
       "</table>\n",
       "</div>"
      ],
      "text/plain": [
       "     Neighborhood  Livability Score  Walk Score  Transit Score  Bike Score  \\\n",
       "0   10th and Page                62        89.0           46.0        79.0   \n",
       "1   Barracks Road                72        66.0           36.0        47.0   \n",
       "2  Barracks Rugby                82        39.0           30.0        43.0   \n",
       "3         Belmont                77        64.0           40.0        58.0   \n",
       "4       Fifeville                81        63.0           44.0        61.0   \n",
       "\n",
       "   Population  \n",
       "0      1105.0  \n",
       "1       556.0  \n",
       "2      2155.0  \n",
       "3      4520.0  \n",
       "4      3565.0  "
      ]
     },
     "execution_count": 65,
     "metadata": {},
     "output_type": "execute_result"
    }
   ],
   "source": [
    "df1=pd.read_excel(r'Downloads\\cvilleairbnb.xlsx', sheet_name='neighborhoods')\n",
    "\n",
    "df1.head()"
   ]
  },
  {
   "cell_type": "code",
   "execution_count": 66,
   "metadata": {},
   "outputs": [
    {
     "data": {
      "text/plain": [
       "10th and Page       1\n",
       "Average             1\n",
       "Barracks Road       1\n",
       "Barracks Rugby      1\n",
       "Belmont             1\n",
       "Fifeville           1\n",
       "Fry Spring          1\n",
       "Greenbrier          1\n",
       "Jefferson Park      1\n",
       "Johnson Village     1\n",
       "Lewis Mountain      1\n",
       "Locust Grove        1\n",
       "Martha Jefferson    1\n",
       "North Downtown      1\n",
       "Ridge Street        1\n",
       "Rose Hill           1\n",
       "Starr Hill          1\n",
       "Venable             1\n",
       "Woolen Mills        1\n",
       "Name: Neighborhood, dtype: int64"
      ]
     },
     "execution_count": 66,
     "metadata": {},
     "output_type": "execute_result"
    }
   ],
   "source": [
    "df1.Neighborhood.value_counts().sort_index()"
   ]
  },
  {
   "cell_type": "code",
   "execution_count": 67,
   "metadata": {},
   "outputs": [],
   "source": [
    "df.Neighborhood=df.Neighborhood.replace({'10th & Page':'10th and Page','Barracks/Rugby':'Barracks Rugby','Fry\\'s Spring':'Fry Spring','Jefferson Park Ave':'Jefferson Park','Jefferson Park Avenue':'Jefferson Park','Lewis Mtn':'Lewis Mountain'})"
   ]
  },
  {
   "cell_type": "code",
   "execution_count": 68,
   "metadata": {},
   "outputs": [],
   "source": [
    "df['Room Type'] = df['Room Type'].str.strip()"
   ]
  },
  {
   "cell_type": "code",
   "execution_count": 69,
   "metadata": {},
   "outputs": [],
   "source": [
    "df['Room Type']=df['Room Type'].replace({' Private room': 'Private room','Entire home/apt':'Entire home/apt',})"
   ]
  },
  {
   "cell_type": "code",
   "execution_count": 70,
   "metadata": {},
   "outputs": [
    {
     "data": {
      "text/html": [
       "<div>\n",
       "<style scoped>\n",
       "    .dataframe tbody tr th:only-of-type {\n",
       "        vertical-align: middle;\n",
       "    }\n",
       "\n",
       "    .dataframe tbody tr th {\n",
       "        vertical-align: top;\n",
       "    }\n",
       "\n",
       "    .dataframe thead th {\n",
       "        text-align: right;\n",
       "    }\n",
       "</style>\n",
       "<table border=\"1\" class=\"dataframe\">\n",
       "  <thead>\n",
       "    <tr style=\"text-align: right;\">\n",
       "      <th></th>\n",
       "      <th>Host ID</th>\n",
       "      <th>Listing ID</th>\n",
       "      <th>Room Type</th>\n",
       "      <th>Num Reviews</th>\n",
       "      <th>Average Rating</th>\n",
       "      <th>Price</th>\n",
       "      <th>lat</th>\n",
       "      <th>long</th>\n",
       "      <th>Neighborhood</th>\n",
       "      <th>City</th>\n",
       "      <th>Bedrooms</th>\n",
       "      <th>Max Guests</th>\n",
       "    </tr>\n",
       "  </thead>\n",
       "  <tbody>\n",
       "    <tr>\n",
       "      <th>0</th>\n",
       "      <td>14284600.0</td>\n",
       "      <td>6348847.0</td>\n",
       "      <td>Private room</td>\n",
       "      <td>0.0</td>\n",
       "      <td>0.0</td>\n",
       "      <td>141.0</td>\n",
       "      <td>38.033436</td>\n",
       "      <td>-78.492183</td>\n",
       "      <td>10th and Page</td>\n",
       "      <td>Charlottesville</td>\n",
       "      <td>1</td>\n",
       "      <td>1</td>\n",
       "    </tr>\n",
       "    <tr>\n",
       "      <th>1</th>\n",
       "      <td>33374506.0</td>\n",
       "      <td>6400414.0</td>\n",
       "      <td>Private room</td>\n",
       "      <td>0.0</td>\n",
       "      <td>0.0</td>\n",
       "      <td>164.0</td>\n",
       "      <td>38.032976</td>\n",
       "      <td>-78.496778</td>\n",
       "      <td>10th and Page</td>\n",
       "      <td>Charlottesville</td>\n",
       "      <td>1</td>\n",
       "      <td>2</td>\n",
       "    </tr>\n",
       "    <tr>\n",
       "      <th>2</th>\n",
       "      <td>15139610.0</td>\n",
       "      <td>4024562.0</td>\n",
       "      <td>Entire home/apt</td>\n",
       "      <td>0.0</td>\n",
       "      <td>0.0</td>\n",
       "      <td>136.0</td>\n",
       "      <td>38.048887</td>\n",
       "      <td>-78.494272</td>\n",
       "      <td>Barracks Rugby</td>\n",
       "      <td>Charlottesville</td>\n",
       "      <td>2</td>\n",
       "      <td>4</td>\n",
       "    </tr>\n",
       "    <tr>\n",
       "      <th>3</th>\n",
       "      <td>20591443.0</td>\n",
       "      <td>11151751.0</td>\n",
       "      <td>Entire home/apt</td>\n",
       "      <td>1.0</td>\n",
       "      <td>0.0</td>\n",
       "      <td>105.0</td>\n",
       "      <td>38.043018</td>\n",
       "      <td>-78.485079</td>\n",
       "      <td>Barracks Rugby</td>\n",
       "      <td>Charlottesville</td>\n",
       "      <td>4</td>\n",
       "      <td>6</td>\n",
       "    </tr>\n",
       "    <tr>\n",
       "      <th>4</th>\n",
       "      <td>24936886.0</td>\n",
       "      <td>12724147.0</td>\n",
       "      <td>Entire home/apt</td>\n",
       "      <td>1.0</td>\n",
       "      <td>0.0</td>\n",
       "      <td>234.0</td>\n",
       "      <td>38.045126</td>\n",
       "      <td>-78.488286</td>\n",
       "      <td>Barracks Rugby</td>\n",
       "      <td>Charlottesville</td>\n",
       "      <td>1</td>\n",
       "      <td>2</td>\n",
       "    </tr>\n",
       "  </tbody>\n",
       "</table>\n",
       "</div>"
      ],
      "text/plain": [
       "      Host ID  Listing ID        Room Type  Num Reviews  Average Rating  \\\n",
       "0  14284600.0   6348847.0     Private room          0.0             0.0   \n",
       "1  33374506.0   6400414.0     Private room          0.0             0.0   \n",
       "2  15139610.0   4024562.0  Entire home/apt          0.0             0.0   \n",
       "3  20591443.0  11151751.0  Entire home/apt          1.0             0.0   \n",
       "4  24936886.0  12724147.0  Entire home/apt          1.0             0.0   \n",
       "\n",
       "   Price        lat       long    Neighborhood             City Bedrooms  \\\n",
       "0  141.0  38.033436 -78.492183   10th and Page  Charlottesville        1   \n",
       "1  164.0  38.032976 -78.496778   10th and Page  Charlottesville        1   \n",
       "2  136.0  38.048887 -78.494272  Barracks Rugby  Charlottesville        2   \n",
       "3  105.0  38.043018 -78.485079  Barracks Rugby  Charlottesville        4   \n",
       "4  234.0  38.045126 -78.488286  Barracks Rugby  Charlottesville        1   \n",
       "\n",
       "  Max Guests  \n",
       "0          1  \n",
       "1          2  \n",
       "2          4  \n",
       "3          6  \n",
       "4          2  "
      ]
     },
     "execution_count": 70,
     "metadata": {},
     "output_type": "execute_result"
    }
   ],
   "source": [
    "df.head()"
   ]
  },
  {
   "cell_type": "code",
   "execution_count": 71,
   "metadata": {},
   "outputs": [
    {
     "data": {
      "text/plain": [
       "(406, 17)"
      ]
     },
     "execution_count": 71,
     "metadata": {},
     "output_type": "execute_result"
    }
   ],
   "source": [
    "full=pd.merge(df,df1,how='inner',on='Neighborhood')\n",
    "\n",
    "full.shape"
   ]
  },
  {
   "cell_type": "code",
   "execution_count": 72,
   "metadata": {},
   "outputs": [
    {
     "data": {
      "text/html": [
       "<div>\n",
       "<style scoped>\n",
       "    .dataframe tbody tr th:only-of-type {\n",
       "        vertical-align: middle;\n",
       "    }\n",
       "\n",
       "    .dataframe tbody tr th {\n",
       "        vertical-align: top;\n",
       "    }\n",
       "\n",
       "    .dataframe thead th {\n",
       "        text-align: right;\n",
       "    }\n",
       "</style>\n",
       "<table border=\"1\" class=\"dataframe\">\n",
       "  <thead>\n",
       "    <tr style=\"text-align: right;\">\n",
       "      <th></th>\n",
       "      <th>Host ID</th>\n",
       "      <th>Listing ID</th>\n",
       "      <th>Room Type</th>\n",
       "      <th>Num Reviews</th>\n",
       "      <th>Average Rating</th>\n",
       "      <th>Price</th>\n",
       "      <th>lat</th>\n",
       "      <th>long</th>\n",
       "      <th>Neighborhood</th>\n",
       "      <th>City</th>\n",
       "      <th>Bedrooms</th>\n",
       "      <th>Max Guests</th>\n",
       "      <th>Livability Score</th>\n",
       "      <th>Walk Score</th>\n",
       "      <th>Transit Score</th>\n",
       "      <th>Bike Score</th>\n",
       "      <th>Population</th>\n",
       "    </tr>\n",
       "  </thead>\n",
       "  <tbody>\n",
       "    <tr>\n",
       "      <th>0</th>\n",
       "      <td>14284600.0</td>\n",
       "      <td>6348847.0</td>\n",
       "      <td>Private room</td>\n",
       "      <td>0.0</td>\n",
       "      <td>0.0</td>\n",
       "      <td>141.0</td>\n",
       "      <td>38.033436</td>\n",
       "      <td>-78.492183</td>\n",
       "      <td>10th and Page</td>\n",
       "      <td>Charlottesville</td>\n",
       "      <td>1</td>\n",
       "      <td>1</td>\n",
       "      <td>62</td>\n",
       "      <td>89.0</td>\n",
       "      <td>46.0</td>\n",
       "      <td>79.0</td>\n",
       "      <td>1105.0</td>\n",
       "    </tr>\n",
       "    <tr>\n",
       "      <th>1</th>\n",
       "      <td>33374506.0</td>\n",
       "      <td>6400414.0</td>\n",
       "      <td>Private room</td>\n",
       "      <td>0.0</td>\n",
       "      <td>0.0</td>\n",
       "      <td>164.0</td>\n",
       "      <td>38.032976</td>\n",
       "      <td>-78.496778</td>\n",
       "      <td>10th and Page</td>\n",
       "      <td>Charlottesville</td>\n",
       "      <td>1</td>\n",
       "      <td>2</td>\n",
       "      <td>62</td>\n",
       "      <td>89.0</td>\n",
       "      <td>46.0</td>\n",
       "      <td>79.0</td>\n",
       "      <td>1105.0</td>\n",
       "    </tr>\n",
       "    <tr>\n",
       "      <th>2</th>\n",
       "      <td>14284600.0</td>\n",
       "      <td>6348847.0</td>\n",
       "      <td>Private room</td>\n",
       "      <td>0.0</td>\n",
       "      <td>0.0</td>\n",
       "      <td>141.0</td>\n",
       "      <td>38.033436</td>\n",
       "      <td>-78.492183</td>\n",
       "      <td>10th and Page</td>\n",
       "      <td>Charlottesville</td>\n",
       "      <td>1</td>\n",
       "      <td>1</td>\n",
       "      <td>62</td>\n",
       "      <td>89.0</td>\n",
       "      <td>46.0</td>\n",
       "      <td>79.0</td>\n",
       "      <td>1105.0</td>\n",
       "    </tr>\n",
       "    <tr>\n",
       "      <th>3</th>\n",
       "      <td>33374506.0</td>\n",
       "      <td>6400414.0</td>\n",
       "      <td>Private room</td>\n",
       "      <td>0.0</td>\n",
       "      <td>0.0</td>\n",
       "      <td>164.0</td>\n",
       "      <td>38.032976</td>\n",
       "      <td>-78.496778</td>\n",
       "      <td>10th and Page</td>\n",
       "      <td>Charlottesville</td>\n",
       "      <td>1</td>\n",
       "      <td>2</td>\n",
       "      <td>62</td>\n",
       "      <td>89.0</td>\n",
       "      <td>46.0</td>\n",
       "      <td>79.0</td>\n",
       "      <td>1105.0</td>\n",
       "    </tr>\n",
       "    <tr>\n",
       "      <th>4</th>\n",
       "      <td>1211743.0</td>\n",
       "      <td>2032456.0</td>\n",
       "      <td>Entire home/apt</td>\n",
       "      <td>16.0</td>\n",
       "      <td>4.5</td>\n",
       "      <td>59.0</td>\n",
       "      <td>38.037432</td>\n",
       "      <td>-78.493808</td>\n",
       "      <td>10th and Page</td>\n",
       "      <td>Charlottesville</td>\n",
       "      <td>1</td>\n",
       "      <td>2</td>\n",
       "      <td>62</td>\n",
       "      <td>89.0</td>\n",
       "      <td>46.0</td>\n",
       "      <td>79.0</td>\n",
       "      <td>1105.0</td>\n",
       "    </tr>\n",
       "  </tbody>\n",
       "</table>\n",
       "</div>"
      ],
      "text/plain": [
       "      Host ID  Listing ID        Room Type  Num Reviews  Average Rating  \\\n",
       "0  14284600.0   6348847.0     Private room          0.0             0.0   \n",
       "1  33374506.0   6400414.0     Private room          0.0             0.0   \n",
       "2  14284600.0   6348847.0     Private room          0.0             0.0   \n",
       "3  33374506.0   6400414.0     Private room          0.0             0.0   \n",
       "4   1211743.0   2032456.0  Entire home/apt         16.0             4.5   \n",
       "\n",
       "   Price        lat       long   Neighborhood             City Bedrooms  \\\n",
       "0  141.0  38.033436 -78.492183  10th and Page  Charlottesville        1   \n",
       "1  164.0  38.032976 -78.496778  10th and Page  Charlottesville        1   \n",
       "2  141.0  38.033436 -78.492183  10th and Page  Charlottesville        1   \n",
       "3  164.0  38.032976 -78.496778  10th and Page  Charlottesville        1   \n",
       "4   59.0  38.037432 -78.493808  10th and Page  Charlottesville        1   \n",
       "\n",
       "  Max Guests  Livability Score  Walk Score  Transit Score  Bike Score  \\\n",
       "0          1                62        89.0           46.0        79.0   \n",
       "1          2                62        89.0           46.0        79.0   \n",
       "2          1                62        89.0           46.0        79.0   \n",
       "3          2                62        89.0           46.0        79.0   \n",
       "4          2                62        89.0           46.0        79.0   \n",
       "\n",
       "   Population  \n",
       "0      1105.0  \n",
       "1      1105.0  \n",
       "2      1105.0  \n",
       "3      1105.0  \n",
       "4      1105.0  "
      ]
     },
     "execution_count": 72,
     "metadata": {},
     "output_type": "execute_result"
    }
   ],
   "source": [
    "full.head()"
   ]
  },
  {
   "cell_type": "markdown",
   "metadata": {},
   "source": [
    "# Data exploration"
   ]
  },
  {
   "cell_type": "code",
   "execution_count": 73,
   "metadata": {},
   "outputs": [
    {
     "data": {
      "text/plain": [
       "Neighborhood\n",
       "Barracks Road        89.666667\n",
       "Jefferson Park      126.000000\n",
       "Rose Hill           140.000000\n",
       "10th and Page       148.000000\n",
       "Barracks Rugby      157.653846\n",
       "Woolen Mills        165.625000\n",
       "Locust Grove        184.823529\n",
       "Johnson Village     186.875000\n",
       "Belmont             191.117647\n",
       "Starr Hill          193.666667\n",
       "North Downtown      195.069767\n",
       "Martha Jefferson    235.038462\n",
       "Fifeville           239.000000\n",
       "Ridge Street        267.242424\n",
       "Greenbrier          276.500000\n",
       "Lewis Mountain      317.153846\n",
       "Fry Spring          327.290323\n",
       "Venable             363.458333\n",
       "Name: Price, dtype: float64"
      ]
     },
     "execution_count": 73,
     "metadata": {},
     "output_type": "execute_result"
    }
   ],
   "source": [
    "full.groupby(by='Neighborhood').Price.mean().sort_values()"
   ]
  },
  {
   "cell_type": "code",
   "execution_count": 74,
   "metadata": {},
   "outputs": [
    {
     "data": {
      "text/plain": [
       "Neighborhood\n",
       "Barracks Road        103.0\n",
       "Rose Hill            140.0\n",
       "Jefferson Park       277.0\n",
       "10th and Page        400.0\n",
       "Starr Hill           400.0\n",
       "Barracks Rugby       526.0\n",
       "Woolen Mills         601.0\n",
       "Greenbrier           702.0\n",
       "Fifeville            802.0\n",
       "Lewis Mountain       911.0\n",
       "Martha Jefferson     930.0\n",
       "Ridge Street         943.0\n",
       "North Downtown       995.0\n",
       "Belmont             1000.0\n",
       "Johnson Village     1100.0\n",
       "Locust Grove        1204.0\n",
       "Venable             1604.0\n",
       "Fry Spring          1650.0\n",
       "Name: Price, dtype: float64"
      ]
     },
     "execution_count": 74,
     "metadata": {},
     "output_type": "execute_result"
    }
   ],
   "source": [
    "full.groupby(by='Neighborhood').Price.max().sort_values()"
   ]
  },
  {
   "cell_type": "code",
   "execution_count": 75,
   "metadata": {},
   "outputs": [],
   "source": [
    "# Venable has the highest average price while Fry Spring has the highest price"
   ]
  },
  {
   "cell_type": "code",
   "execution_count": 76,
   "metadata": {},
   "outputs": [
    {
     "data": {
      "text/plain": [
       "Bedrooms\n",
       "0     103.136364\n",
       "1     104.471264\n",
       "2     189.989691\n",
       "3     347.753846\n",
       "4     481.352941\n",
       "5     776.600000\n",
       "6    1092.500000\n",
       "Name: Price, dtype: float64"
      ]
     },
     "execution_count": 76,
     "metadata": {},
     "output_type": "execute_result"
    }
   ],
   "source": [
    "full.groupby(by='Bedrooms').Price.mean().sort_values()"
   ]
  },
  {
   "cell_type": "code",
   "execution_count": 77,
   "metadata": {},
   "outputs": [
    {
     "data": {
      "text/plain": [
       "1    174\n",
       "2     97\n",
       "3     65\n",
       "4     34\n",
       "0     22\n",
       "5     10\n",
       "6      4\n",
       "Name: Bedrooms, dtype: int64"
      ]
     },
     "execution_count": 77,
     "metadata": {},
     "output_type": "execute_result"
    }
   ],
   "source": [
    "full.Bedrooms.value_counts()"
   ]
  },
  {
   "cell_type": "code",
   "execution_count": 78,
   "metadata": {},
   "outputs": [],
   "source": [
    "# The more bedrooms, the higher the average price"
   ]
  },
  {
   "cell_type": "code",
   "execution_count": 79,
   "metadata": {},
   "outputs": [
    {
     "data": {
      "text/plain": [
       "Room Type\n",
       "Entire home/apt    264.147059\n",
       "Private room        91.530000\n",
       "Name: Price, dtype: float64"
      ]
     },
     "execution_count": 79,
     "metadata": {},
     "output_type": "execute_result"
    }
   ],
   "source": [
    "full.groupby(by='Room Type').Price.mean()"
   ]
  },
  {
   "cell_type": "code",
   "execution_count": 80,
   "metadata": {},
   "outputs": [],
   "source": [
    "# 0 bedroom means entire home/apt. Private room only offers 1 bedroom. Entire home can rent out 3x price higher than private room"
   ]
  },
  {
   "cell_type": "markdown",
   "metadata": {},
   "source": [
    "# Visualization"
   ]
  },
  {
   "cell_type": "code",
   "execution_count": 81,
   "metadata": {},
   "outputs": [],
   "source": [
    "import matplotlib.pyplot as plt\n",
    "import matplotlib\n",
    "import seaborn as sns\n",
    "import random"
   ]
  },
  {
   "cell_type": "code",
   "execution_count": 82,
   "metadata": {},
   "outputs": [],
   "source": [
    "matplotlib.rcParams['figure.figsize'] = (10, 5)\n",
    "matplotlib.rcParams['font.size'] = 15\n",
    "random.seed(0)\n",
    "pd.set_option('display.max_columns', None)\n",
    "\n",
    "import warnings\n",
    "warnings.filterwarnings('ignore')"
   ]
  },
  {
   "cell_type": "code",
   "execution_count": 83,
   "metadata": {},
   "outputs": [
    {
     "data": {
      "text/plain": [
       "<matplotlib.axes._subplots.AxesSubplot at 0xf0c84c0>"
      ]
     },
     "execution_count": 83,
     "metadata": {},
     "output_type": "execute_result"
    },
    {
     "data": {
      "image/png": "[encoded data removed]",
      "text/plain": [
       "<Figure size 720x360 with 1 Axes>"
      ]
     },
     "metadata": {
      "needs_background": "light"
     },
     "output_type": "display_data"
    }
   ],
   "source": [
    "full.Price.plot.hist()"
   ]
  },
  {
   "cell_type": "code",
   "execution_count": 84,
   "metadata": {},
   "outputs": [
    {
     "data": {
      "text/plain": [
       "<matplotlib.axes._subplots.AxesSubplot at 0xf142a00>"
      ]
     },
     "execution_count": 84,
     "metadata": {},
     "output_type": "execute_result"
    },
    {
     "data": {
      "image/png": "[encoded data removed]",
      "text/plain": [
       "<Figure size 720x360 with 1 Axes>"
      ]
     },
     "metadata": {
      "needs_background": "light"
     },
     "output_type": "display_data"
    }
   ],
   "source": [
    "sns.distplot(full['Bedrooms'])"
   ]
  },
  {
   "cell_type": "code",
   "execution_count": 85,
   "metadata": {},
   "outputs": [],
   "source": [
    "#Most of the listings are 1 bedroom with the price less than $200"
   ]
  },
  {
   "cell_type": "code",
   "execution_count": 86,
   "metadata": {},
   "outputs": [
    {
     "data": {
      "text/plain": [
       "<matplotlib.axes._subplots.AxesSubplot at 0xf17a130>"
      ]
     },
     "execution_count": 86,
     "metadata": {},
     "output_type": "execute_result"
    },
    {
     "data": {
      "image/png": "[encoded data removed]",
      "text/plain": [
       "<Figure size 720x360 with 1 Axes>"
      ]
     },
     "metadata": {
      "needs_background": "light"
     },
     "output_type": "display_data"
    }
   ],
   "source": [
    "sns.boxplot(x = \"Bedrooms\", y = \"Price\", data = full)"
   ]
  },
  {
   "cell_type": "code",
   "execution_count": 87,
   "metadata": {},
   "outputs": [],
   "source": [
    "# More bedroom have higher profit margin."
   ]
  },
  {
   "cell_type": "code",
   "execution_count": 88,
   "metadata": {},
   "outputs": [
    {
     "data": {
      "text/plain": [
       "<matplotlib.axes._subplots.AxesSubplot at 0xf38fa48>"
      ]
     },
     "execution_count": 88,
     "metadata": {},
     "output_type": "execute_result"
    },
    {
     "data": {
      "image/png": "[encoded data removed]",
      "text/plain": [
       "<Figure size 720x360 with 1 Axes>"
      ]
     },
     "metadata": {
      "needs_background": "light"
     },
     "output_type": "display_data"
    }
   ],
   "source": [
    "sns.boxplot(x = \"Average Rating\", y = \"Price\", data = full)"
   ]
  },
  {
   "cell_type": "code",
   "execution_count": 89,
   "metadata": {},
   "outputs": [
    {
     "data": {
      "text/plain": [
       "<matplotlib.axes._subplots.AxesSubplot at 0xf3f20e8>"
      ]
     },
     "execution_count": 89,
     "metadata": {},
     "output_type": "execute_result"
    },
    {
     "data": {
      "image/png": "[encoded data removed]",
      "text/plain": [
       "<Figure size 720x360 with 1 Axes>"
      ]
     },
     "metadata": {
      "needs_background": "light"
     },
     "output_type": "display_data"
    }
   ],
   "source": [
    "sns.barplot(x=\"Average Rating\", y=\"Price\", data=full,\n",
    "            color=\"b\")"
   ]
  },
  {
   "cell_type": "code",
   "execution_count": 90,
   "metadata": {},
   "outputs": [],
   "source": [
    "#Both plots show that rating does not affect price"
   ]
  },
  {
   "cell_type": "code",
   "execution_count": 91,
   "metadata": {},
   "outputs": [],
   "source": [
    "full.Bedrooms=full.Bedrooms.astype(float)\n",
    "full['Max Guests']=full['Max Guests'].astype(float)"
   ]
  },
  {
   "cell_type": "code",
   "execution_count": 92,
   "metadata": {},
   "outputs": [],
   "source": [
    "full['PricePerPerson']=full.Price/full['Max Guests']"
   ]
  },
  {
   "cell_type": "code",
   "execution_count": 93,
   "metadata": {},
   "outputs": [
    {
     "data": {
      "text/plain": [
       "<matplotlib.axes._subplots.AxesSubplot at 0xf380880>"
      ]
     },
     "execution_count": 93,
     "metadata": {},
     "output_type": "execute_result"
    },
    {
     "data": {
      "image/png": "[encoded data removed]",
      "text/plain": [
       "<Figure size 576x576 with 2 Axes>"
      ]
     },
     "metadata": {
      "needs_background": "light"
     },
     "output_type": "display_data"
    }
   ],
   "source": [
    "corr_cols = ['Num Reviews', 'Average Rating', 'Price', 'PricePerPerson','Bedrooms', 'Max Guests','Livability Score','Walk Score','Transit Score','Bike Score','Population']\n",
    "colormap = plt.cm.RdBu\n",
    "plt.figure(figsize=(8,8))\n",
    "sns.heatmap(full[corr_cols].astype(float).corr(), linewidths=0.1, vmax=1.0, vmin=-1., square=True, cmap=colormap, linecolor='white', annot=True,fmt=\".2f\")"
   ]
  },
  {
   "cell_type": "code",
   "execution_count": 94,
   "metadata": {},
   "outputs": [],
   "source": [
    "#Average price is highly correlated with the number of bedrooms and max guests"
   ]
  },
  {
   "cell_type": "code",
   "execution_count": 95,
   "metadata": {},
   "outputs": [
    {
     "data": {
      "application/vnd.plotly.v1+json": {
       "config": {
        "plotlyServerURL": "https://plot.ly"
       },
       "data": [
        {
         "hovertemplate": "<b>%{hovertext}</b><br><br>lat=%{lat}<br>long=%{lon}<br>Price=%{marker.color}<extra></extra>",
         "hovertext": [
          "10th and Page",
          "10th and Page",
          "Barracks Rugby",
          "Barracks Rugby",
          "Barracks Rugby",
          "Barracks Rugby",
          "10th and Page",
          "10th and Page",
          "Barracks Rugby",
          "Barracks Rugby",
          "Barracks Rugby",
          "Barracks Rugby",
          "Barracks Rugby",
          "Barracks Rugby",
          "Belmont",
          "Belmont",
          "Belmont",
          "Belmont",
          "Fifeville",
          "Fifeville",
          "Fifeville",
          "Fifeville",
          "Fifeville",
          "Fifeville",
          "Fry Spring",
          "Fry Spring",
          "Fry Spring",
          "Fry Spring",
          "Greenbrier",
          "Greenbrier",
          "Greenbrier",
          "Jefferson Park",
          "Johnson Village",
          "Johnson Village",
          "Lewis Mountain",
          "Lewis Mountain",
          "Lewis Mountain",
          "Lewis Mountain",
          "Lewis Mountain",
          "Lewis Mountain",
          "Locust Grove",
          "Locust Grove",
          "Locust Grove",
          "Locust Grove",
          "Locust Grove",
          "Locust Grove",
          "Locust Grove",
          "Locust Grove",
          "Locust Grove",
          "Martha Jefferson",
          "Martha Jefferson",
          "Martha Jefferson",
          "Martha Jefferson",
          "Martha Jefferson",
          "Martha Jefferson",
          "Martha Jefferson",
          "Martha Jefferson",
          "Martha Jefferson",
          "North Downtown",
          "North Downtown",
          "North Downtown",
          "North Downtown",
          "North Downtown",
          "North Downtown",
          "Ridge Street",
          "Ridge Street",
          "Ridge Street",
          "Ridge Street",
          "Ridge Street",
          "Ridge Street",
          "Venable",
          "Venable",
          "Venable",
          "Venable",
          "Venable",
          "Woolen Mills",
          "Barracks Road",
          "Locust Grove",
          "Fry Spring",
          "North Downtown",
          "10th and Page",
          "Barracks Road",
          "Barracks Rugby",
          "Barracks Rugby",
          "Belmont",
          "Belmont",
          "Belmont",
          "Belmont",
          "Belmont",
          "Belmont",
          "Belmont",
          "Belmont",
          "Fifeville",
          "Fifeville",
          "Fifeville",
          "Fifeville",
          "Fry Spring",
          "Fry Spring",
          "Greenbrier",
          "Jefferson Park",
          "Johnson Village",
          "Johnson Village",
          "Johnson Village",
          "Lewis Mountain",
          "Locust Grove",
          "Locust Grove",
          "Locust Grove",
          "Locust Grove",
          "Martha Jefferson",
          "North Downtown",
          "North Downtown",
          "North Downtown",
          "North Downtown",
          "North Downtown",
          "North Downtown",
          "North Downtown",
          "Ridge Street",
          "Woolen Mills",
          "Woolen Mills",
          "Woolen Mills",
          "10th and Page",
          "10th and Page",
          "10th and Page",
          "Barracks Rugby",
          "Barracks Rugby",
          "Barracks Rugby",
          "Barracks Rugby",
          "Barracks Rugby",
          "Barracks Rugby",
          "Barracks Rugby",
          "Barracks Rugby",
          "Barracks Rugby",
          "Barracks Rugby",
          "Barracks Rugby",
          "Belmont",
          "Belmont",
          "Belmont",
          "Belmont",
          "Belmont",
          "Belmont",
          "Belmont",
          "Belmont",
          "Belmont",
          "Belmont",
          "Belmont",
          "Belmont",
          "Belmont",
          "Belmont",
          "Belmont",
          "Belmont",
          "Belmont",
          "Belmont",
          "Belmont",
          "Belmont",
          "Belmont",
          "Belmont",
          "Belmont",
          "Belmont",
          "Belmont",
          "Belmont",
          "Belmont",
          "Belmont",
          "Belmont",
          "Belmont",
          "Belmont",
          "Belmont",
          "Fifeville ",
          "Fifeville",
          "Fifeville",
          "Fifeville",
          "Fifeville",
          "Fifeville",
          "Fifeville",
          "Fifeville",
          "Fifeville",
          "Fifeville",
          "Fifeville",
          "Fifeville",
          "Fifeville",
          "Fifeville",
          "Fifeville",
          "Fifeville",
          "Fifeville",
          "Fifeville",
          "Fifeville",
          "Fifeville",
          "Fry Spring",
          "Fry Spring",
          "Fry Spring",
          "Fry Spring",
          "Fry Spring",
          "Fry Spring",
          "Fry Spring",
          "Fry Spring",
          "Fry Spring",
          "Fry Spring",
          "Fry Spring",
          "Fry Spring",
          "Fry Spring",
          "Greenbrier",
          "Greenbrier",
          "Jefferson Park",
          "Jefferson Park",
          "Jefferson Park",
          "Jefferson Park",
          "Johnson Village",
          "Johnson Village",
          "Johnson Village",
          "Johnson Village",
          "Lewis Mountain",
          "Lewis Mountain",
          "Lewis Mountain",
          "Lewis Mountain",
          "Lewis Mountain",
          "Lewis Mountain",
          "Locust Grove",
          "Locust Grove",
          "Locust Grove",
          "Locust Grove",
          "Locust Grove",
          "Locust Grove",
          "Locust Grove",
          "Locust Grove",
          "Locust Grove",
          "Locust Grove",
          "Locust Grove",
          "Locust Grove",
          "Locust Grove",
          "Locust Grove",
          "Locust Grove",
          "Locust Grove",
          "Martha Jefferson",
          "Martha Jefferson",
          "Martha Jefferson",
          "Martha Jefferson",
          "Martha Jefferson",
          "Martha Jefferson",
          "Martha Jefferson",
          "Martha Jefferson",
          "Martha Jefferson",
          "Martha Jefferson",
          "Martha Jefferson",
          "Martha Jefferson",
          "North Downtown",
          "North Downtown",
          "North Downtown",
          "North Downtown",
          "North Downtown",
          "North Downtown",
          "North Downtown",
          "North Downtown",
          "North Downtown",
          "North Downtown",
          "North Downtown",
          "North Downtown",
          "North Downtown",
          "North Downtown",
          "Ridge Street",
          "Ridge Street",
          "Ridge Street",
          "Ridge Street",
          "Ridge Street",
          "Ridge Street",
          "Ridge Street",
          "Ridge Street",
          "Ridge Street",
          "Ridge Street",
          "Ridge Street",
          "Ridge Street",
          "Ridge Street",
          "Ridge Street",
          "Rose Hill",
          "Starr Hill",
          "Venable",
          "Venable",
          "Venable",
          "Venable",
          "Venable",
          "Venable",
          "Venable",
          "Venable",
          "Venable",
          "Venable",
          "Woolen Mills",
          "Woolen Mills",
          "Woolen Mills",
          "Woolen Mills",
          "Woolen Mills",
          "Woolen Mills",
          "Woolen Mills",
          "Woolen Mills",
          "Woolen Mills",
          "Woolen Mills",
          "Woolen Mills",
          null,
          "Fry Spring",
          "Fry Spring",
          "Jefferson Park",
          "Fry Spring",
          "Fry Spring",
          "Jefferson Park",
          "Fry Spring",
          "Johnson Village",
          "Jefferson Park",
          "Venable",
          "Venable",
          "Ridge Street",
          "Ridge Street",
          "Ridge Street",
          "10th and Page",
          "Starr Hill",
          "Ridge Street",
          "Fifeville",
          "Fifeville",
          "Belmont",
          "North Downtown",
          "North Downtown",
          "Belmont",
          "Belmont",
          "Belmont",
          "North Downtown",
          "Locust Grove",
          "Barracks Road",
          "Johnson Village",
          "Venable",
          "Fifeville",
          "Venable",
          "Ridge Street",
          "Fifeville",
          "Belmont",
          "Belmont",
          "North Downtown",
          "Jefferson Park",
          "Jefferson Park",
          "Venable",
          "Belmont",
          "Belmont",
          "North Downtown",
          "Venable",
          "Barracks Rugby",
          "North Downtown",
          "Locust Grove",
          "Barracks Road",
          "Venable",
          "Venable",
          "North Downtown",
          "Jefferson Park",
          "Johnson Village",
          "Ridge Street",
          "North Downtown",
          "Belmont",
          "Martha Jefferson",
          "Fry Spring",
          "Belmont",
          "Belmont",
          "Jefferson Park",
          "Johnson Village",
          "Fifeville",
          "Ridge Street",
          "Belmont",
          "Belmont",
          "Locust Grove",
          "Venable",
          "Barracks Road",
          "Barracks Rugby",
          "Barracks Rugby",
          "Fry Spring",
          "Johnson Village",
          "North Downtown",
          "Fry Spring",
          "Fifeville",
          "Johnson Village",
          "Belmont",
          "Belmont",
          "Jefferson Park",
          "Barracks Road",
          "Belmont",
          "Jefferson Park",
          "North Downtown",
          "Martha Jefferson",
          "Johnson Village",
          "Belmont",
          "Belmont",
          "Martha Jefferson",
          "Fry Spring",
          "Starr Hill",
          "Belmont",
          "Locust Grove",
          "Martha Jefferson",
          "North Downtown",
          "Belmont",
          "Woolen Mills",
          "Fry Spring",
          "Ridge Street",
          "North Downtown",
          "Belmont",
          "Ridge Street",
          "Belmont",
          "Ridge Street",
          "North Downtown",
          "North Downtown",
          "Belmont",
          "Belmont",
          "Ridge Street",
          "North Downtown",
          "Fry Spring",
          "Ridge Street",
          "10th and Page"
         ],
         "lat": [
          38.033436,
          38.032976,
          38.048887,
          38.043018000000004,
          38.045126,
          38.049062,
          38.033436,
          38.032976,
          38.048887,
          38.043018000000004,
          38.045126,
          38.049062,
          38.044043,
          38.051253,
          38.020273,
          38.022322,
          38.014095,
          38.020328,
          38.029932,
          38.028261,
          38.022928,
          38.028577,
          38.029819,
          38.028224,
          38.015633,
          38.01467,
          38.016697,
          38.016013,
          38.062717,
          38.056369,
          38.061073,
          38.028748,
          38.020489,
          38.021471,
          38.041805,
          38.040407,
          38.041823,
          38.039224,
          38.037033,
          38.037909,
          38.044574,
          38.043406,
          38.040641,
          38.041125,
          38.041182,
          38.040092,
          38.040973,
          38.04045,
          38.037612,
          38.029376,
          38.032438,
          38.034044,
          38.028015,
          38.027577,
          38.035664,
          38.029617,
          38.027741,
          38.030653,
          38.038832,
          38.041312,
          38.033631,
          38.033656,
          38.030829,
          38.030514,
          38.023702,
          38.017623,
          38.023513,
          38.014634,
          38.018524,
          38.019304,
          38.045904,
          38.048798,
          38.047154,
          38.047996,
          38.035601,
          38.0265,
          38.051111,
          38.038638,
          38.014004,
          38.028792,
          38.037432,
          38.050882,
          38.046,
          38.042415,
          38.020488,
          38.022657,
          38.023601,
          38.024444,
          38.024979,
          38.02748,
          38.026307,
          38.022765,
          38.028592,
          38.030034,
          38.028282,
          38.030234,
          38.018502,
          38.025394,
          38.061409,
          38.027162,
          38.021892,
          38.016536,
          38.01968,
          38.041443,
          38.049694,
          38.043189,
          38.04061,
          38.0368,
          38.02888,
          38.037268,
          38.03219,
          38.032684,
          38.031912,
          38.031959,
          38.03356,
          38.031647,
          38.020812,
          38.028644,
          38.02894,
          38.028296,
          38.031901,
          38.034679,
          38.035807,
          38.047917,
          38.048711,
          38.047994,
          38.046863,
          38.046423,
          38.052839,
          38.052296,
          38.046143,
          38.043899,
          38.052512,
          38.048863,
          38.025205,
          38.019242,
          38.020216,
          38.017222,
          38.019301,
          38.020574,
          38.023453,
          38.020508,
          38.026527,
          38.016785,
          38.026552,
          38.017005,
          38.019762,
          38.020894,
          38.025327,
          38.021333,
          38.027098,
          38.026242,
          38.023975,
          38.022753,
          38.02221,
          38.025813,
          38.016118,
          38.017078,
          38.021403,
          38.020722,
          38.020973,
          38.026478,
          38.024704,
          38.024079,
          38.024387,
          38.023156,
          38.030224,
          38.030267,
          38.029046,
          38.029544,
          38.029803,
          38.03121,
          38.031159,
          38.030771,
          38.028713,
          38.029814,
          38.026614,
          38.02879,
          38.023277,
          38.022674,
          38.02846,
          38.029587,
          38.029251,
          38.029792,
          38.028016,
          38.027629,
          38.023581,
          38.011809,
          38.014887,
          38.016331,
          38.016161,
          38.01339,
          38.018106,
          38.02557,
          38.023726,
          38.022308,
          38.011673,
          38.01512,
          38.017982,
          38.059099,
          38.063491,
          38.030082,
          38.0315,
          38.028516,
          38.025528,
          38.023643,
          38.016441,
          38.02188,
          38.02176,
          38.040996,
          38.039586,
          38.039997,
          38.041122,
          38.040732,
          38.038331,
          38.044422,
          38.04546,
          38.044658,
          38.040405,
          38.039717,
          38.039997,
          38.044667,
          38.044651,
          38.039149,
          38.043645,
          38.044648,
          38.043046,
          38.047751,
          38.040739,
          38.043098,
          38.039473,
          38.031404,
          38.034259,
          38.032928,
          38.033041,
          38.033861,
          38.033859,
          38.029842,
          38.034349,
          38.029542,
          38.030523,
          38.028337,
          38.027802,
          38.035243,
          38.036076,
          38.035689,
          38.033802,
          38.036209,
          38.034804,
          38.035681,
          38.035631,
          38.033724,
          38.036655,
          38.035061,
          38.030696,
          38.03212,
          38.030856,
          38.018941,
          38.021172,
          38.025534,
          38.024623,
          38.022429,
          38.014381,
          38.0232,
          38.025059,
          38.022924,
          38.023362,
          38.02297,
          38.021951,
          38.021276,
          38.0192,
          38.040757,
          38.031316,
          38.046857,
          38.035168,
          38.045255,
          38.040013,
          38.046855,
          38.044226,
          38.045833,
          38.038378,
          38.046016,
          38.042501,
          38.028627,
          38.028999,
          38.026532,
          38.02933,
          38.028647,
          38.03027,
          38.025033,
          38.025819,
          38.024901,
          38.023184,
          38.024262,
          null,
          38.021999,
          38.022247,
          38.028324,
          38.017437,
          38.022048,
          38.028011,
          38.015853,
          38.020289,
          38.031611,
          38.044162,
          38.037961,
          38.018557,
          38.017457,
          38.017646,
          38.037487,
          38.032147,
          38.02353,
          38.028688,
          38.028711,
          38.018457,
          38.030437,
          38.029773,
          38.024943,
          38.027044,
          38.02437,
          38.035908,
          38.050051,
          38.048702,
          38.022629,
          38.037564,
          38.021552,
          38.036,
          38.018005,
          38.030531,
          38.025012,
          38.024962,
          38.040983,
          38.023832,
          38.027581,
          38.036421,
          38.016157,
          38.024668,
          38.038132,
          38.035653,
          38.046021,
          38.029944,
          38.038345,
          38.049399,
          38.036359,
          38.037332,
          38.038088,
          38.025248,
          38.018923,
          38.016368,
          38.029415,
          38.026278,
          38.035561,
          38.023581,
          38.020187,
          38.024497,
          38.027676,
          38.018315,
          38.024334,
          38.017994,
          38.025649,
          38.025399,
          38.043263,
          38.046197,
          38.050889,
          38.048484,
          38.044204,
          38.020684,
          38.017453,
          38.031652,
          38.014334,
          38.025948,
          38.019149,
          38.024695,
          38.027834,
          38.026387,
          38.049317,
          38.023884,
          38.027832,
          38.030325,
          38.032731,
          38.020965,
          38.02077,
          38.023189,
          38.026834,
          38.017651,
          38.031181,
          38.016363,
          38.041613,
          38.035832,
          38.036822,
          38.023517,
          38.033043,
          38.01545,
          38.020915,
          38.029536,
          38.016926,
          38.018571,
          38.024649,
          38.017288,
          38.026124,
          38.030364,
          38.026068,
          38.023557,
          38.025363,
          38.03231,
          38.013307,
          38.022185,
          38.034976
         ],
         "legendgroup": "",
         "lon": [
          -78.492183,
          -78.496778,
          -78.494272,
          -78.485079,
          -78.488286,
          -78.491114,
          -78.492183,
          -78.496778,
          -78.494272,
          -78.485079,
          -78.488286,
          -78.491114,
          -78.492333,
          -78.492528,
          -78.480458,
          -78.481743,
          -78.483152,
          -78.474543,
          -78.493544,
          -78.491158,
          -78.499922,
          -78.499644,
          -78.488981,
          -78.502271,
          -78.509248,
          -78.500963,
          -78.518265,
          -78.510978,
          -78.478213,
          -78.477416,
          -78.475794,
          -78.509269,
          -78.506938,
          -78.509591,
          -78.508238,
          -78.510882,
          -78.510264,
          -78.511368,
          -78.511745,
          -78.509641,
          -78.460573,
          -78.455471,
          -78.471626,
          -78.47029,
          -78.467042,
          -78.468766,
          -78.463691,
          -78.463704,
          -78.460926,
          -78.470275,
          -78.468506,
          -78.46953,
          -78.472317,
          -78.466735,
          -78.466363,
          -78.467931,
          -78.466659,
          -78.471697,
          -78.470015,
          -78.478195,
          -78.479973,
          -78.47643,
          -78.481762,
          -78.482983,
          -78.482075,
          -78.494184,
          -78.48301,
          -78.49911,
          -78.490113,
          -78.492768,
          -78.502967,
          -78.500407,
          -78.495573,
          -78.495273,
          -78.498934,
          -78.463522,
          -78.508672,
          -78.464243,
          -78.502969,
          -78.476929,
          -78.493808,
          -78.507195,
          -78.484533,
          -78.487276,
          -78.475846,
          -78.476542,
          -78.48056,
          -78.47941,
          -78.475577,
          -78.477587,
          -78.47885,
          -78.472061,
          -78.490807,
          -78.49176,
          -78.490519,
          -78.488672,
          -78.508928,
          -78.512449,
          -78.474643,
          -78.516375,
          -78.501476,
          -78.499501,
          -78.500932,
          -78.509271,
          -78.454223,
          -78.464701,
          -78.470523,
          -78.460969,
          -78.475772,
          -78.478536,
          -78.478299,
          -78.47859,
          -78.481066,
          -78.481883,
          -78.474218,
          -78.482251,
          -78.484743,
          -78.464489,
          -78.462481,
          -78.461587,
          -78.493194,
          -78.491241,
          -78.488891,
          -78.485253,
          -78.492819,
          -78.491981,
          -78.480889,
          -78.481803,
          -78.487069,
          -78.488106,
          -78.481905,
          -78.490749,
          -78.490942,
          -78.486793,
          -78.476766,
          -78.48007,
          -78.474947,
          -78.481096,
          -78.481586,
          -78.481116,
          -78.476406,
          -78.482361,
          -78.474512,
          -78.483136,
          -78.478328,
          -78.483443,
          -78.474452,
          -78.468004,
          -78.478524,
          -78.474098,
          -78.47423,
          -78.473139,
          -78.480761,
          -78.473062,
          -78.472945,
          -78.477388,
          -78.477265,
          -78.476505,
          -78.482528,
          -78.475945,
          -78.469398,
          -78.478847,
          -78.476551,
          -78.476899,
          -78.473044,
          -78.471296,
          -78.493155,
          -78.488123,
          -78.493515,
          -78.488975,
          -78.4914,
          -78.493353,
          -78.493753,
          -78.494585,
          -78.493188,
          -78.487963,
          -78.502297,
          -78.491635,
          -78.499809,
          -78.497986,
          -78.50085,
          -78.495655,
          -78.496007,
          -78.496655,
          -78.49495,
          -78.488234,
          -78.513328,
          -78.513717,
          -78.50908,
          -78.509819,
          -78.499048,
          -78.504534,
          -78.51687,
          -78.512478,
          -78.518886,
          -78.515014,
          -78.512481,
          -78.509008,
          -78.508728,
          -78.473133,
          -78.476484,
          -78.506809,
          -78.501787,
          -78.505556,
          -78.515419,
          -78.504711,
          -78.50072,
          -78.505458,
          -78.503876,
          -78.514705,
          -78.511033,
          -78.512333,
          -78.509854,
          -78.511366,
          -78.51324,
          -78.457557,
          -78.463262,
          -78.460411,
          -78.465067,
          -78.466018,
          -78.470353,
          -78.470952,
          -78.455984,
          -78.461584,
          -78.457772,
          -78.455569,
          -78.460139,
          -78.462332,
          -78.469099,
          -78.46052,
          -78.460477,
          -78.468476,
          -78.467454,
          -78.468717,
          -78.469148,
          -78.47053,
          -78.466259,
          -78.469486,
          -78.467891,
          -78.469005,
          -78.472266,
          -78.466702,
          -78.469924,
          -78.479758,
          -78.482238,
          -78.476392,
          -78.481603,
          -78.47852,
          -78.478131,
          -78.48166,
          -78.470624,
          -78.480367,
          -78.478664,
          -78.477182,
          -78.481313,
          -78.482961,
          -78.482925,
          -78.492385,
          -78.484146,
          -78.48166,
          -78.481384,
          -78.488014,
          -78.498927,
          -78.482377,
          -78.489922,
          -78.489974,
          -78.488432,
          -78.491598,
          -78.490088,
          -78.484533,
          -78.494084,
          -78.488112,
          -78.490628,
          -78.501286,
          -78.493783,
          -78.500029,
          -78.492361,
          -78.500168,
          -78.501444,
          -78.49958,
          -78.499023,
          -78.501728,
          -78.499435,
          -78.463954,
          -78.463937,
          -78.463204,
          -78.462803,
          -78.462323,
          -78.463522,
          -78.46229,
          -78.464496,
          -78.46387,
          -78.460258,
          -78.461916,
          null,
          -78.51971,
          -78.518559,
          -78.51849,
          -78.517384,
          -78.516549,
          -78.510099,
          -78.506915,
          -78.504909,
          -78.498047,
          -78.498029,
          -78.496024,
          -78.49367,
          -78.492526,
          -78.492354,
          -78.491886,
          -78.48989,
          -78.488862,
          -78.487386,
          -78.486973,
          -78.484197,
          -78.483364,
          -78.483071,
          -78.476836,
          -78.474832,
          -78.474702,
          -78.47312,
          -78.456003,
          -78.505275,
          -78.501424,
          -78.500087,
          -78.499438,
          -78.497929,
          -78.493662,
          -78.491005,
          -78.476737,
          -78.475051,
          -78.474171,
          -78.521671,
          -78.508684,
          -78.497977,
          -78.483966,
          -78.477412,
          -78.473504,
          -78.494842,
          -78.485336,
          -78.480198,
          -78.461044,
          -78.507156,
          -78.498701,
          -78.495445,
          -78.477539,
          -78.521454,
          -78.501554,
          -78.492704,
          -78.481379,
          -78.477884,
          -78.465375,
          -78.513328,
          -78.483652,
          -78.478711,
          -78.517299,
          -78.501103,
          -78.497206,
          -78.492177,
          -78.479113,
          -78.47853,
          -78.457309,
          -78.499441,
          -78.505554,
          -78.489068,
          -78.485558,
          -78.511001,
          -78.500994,
          -78.478339,
          -78.507155,
          -78.500795,
          -78.500023,
          -78.479865,
          -78.476582,
          -78.515262,
          -78.507297,
          -78.480711,
          -78.509944,
          -78.482742,
          -78.47276,
          -78.500337,
          -78.483131,
          -78.474666,
          -78.468007,
          -78.510667,
          -78.490863,
          -78.472538,
          -78.472755,
          -78.469782,
          -78.473446,
          -78.476858,
          -78.461707,
          -78.515368,
          -78.493912,
          -78.483303,
          -78.472859,
          -78.495546,
          -78.476485,
          -78.494192,
          -78.480846,
          -78.482501,
          -78.476949,
          -78.47527,
          -78.481303,
          -78.480771,
          -78.516887,
          -78.49009,
          -78.492979
         ],
         "marker": {
          "color": [
           141,
           164,
           136,
           105,
           234,
           179,
           141,
           164,
           136,
           105,
           234,
           179,
           51,
           526,
           76,
           206,
           75,
           132,
           152,
           179,
           221,
           302,
           514,
           671,
           607,
           70,
           702,
           359,
           301,
           702,
           410,
           39,
           155,
           502,
           15,
           180,
           238,
           210,
           911,
           821,
           206,
           86,
           125,
           60,
           351,
           398,
           416,
           176,
           40,
           930,
           91,
           607,
           51,
           147,
           175,
           177,
           71,
           635,
           75,
           463,
           138,
           554,
           131,
           160,
           208,
           943,
           379,
           69,
           767,
           795,
           1604,
           140,
           612,
           412,
           31,
           303,
           103,
           186,
           99,
           31,
           59,
           101,
           188,
           82,
           63,
           118,
           120,
           123,
           122,
           228,
           252,
           156,
           80,
           82,
           117,
           83,
           77,
           103,
           126,
           88,
           67,
           90,
           83,
           538,
           240,
           72,
           177,
           100,
           399,
           76,
           470,
           150,
           174,
           172,
           184,
           172,
           191,
           71,
           72,
           134,
           63,
           86,
           207,
           76,
           98,
           88,
           85,
           102,
           251,
           75,
           130,
           112,
           101,
           128,
           201,
           114,
           307,
           56,
           137,
           201,
           412,
           358,
           152,
           331,
           274,
           99,
           77,
           34,
           130,
           197,
           802,
           99,
           104,
           113,
           159,
           147,
           87,
           46,
           207,
           92,
           99,
           77,
           152,
           156,
           97,
           120,
           96,
           802,
           134,
           243,
           165,
           506,
           150,
           232,
           231,
           112,
           203,
           495,
           86,
           62,
           114,
           389,
           67,
           224,
           72,
           281,
           60,
           106,
           459,
           531,
           202,
           47,
           115,
           117,
           660,
           520,
           86,
           216,
           98,
           43,
           77,
           200,
           60,
           137,
           277,
           93,
           335,
           53,
           64,
           122,
           405,
           150,
           181,
           179,
           173,
           79,
           98,
           184,
           378,
           101,
           1204,
           92,
           62,
           119,
           55,
           125,
           204,
           68,
           127,
           168,
           87,
           203,
           72,
           152,
           66,
           202,
           363,
           502,
           86,
           129,
           167,
           191,
           50,
           93,
           166,
           325,
           186,
           232,
           83,
           327,
           71,
           178,
           116,
           169,
           130,
           129,
           161,
           608,
           125,
           132,
           131,
           137,
           65,
           109,
           390,
           298,
           93,
           172,
           220,
           207,
           91,
           140,
           66,
           237,
           71,
           925,
           178,
           88,
           1513,
           251,
           61,
           708,
           751,
           145,
           77,
           180,
           188,
           72,
           146,
           144,
           66,
           176,
           126,
           601,
           null,
           1000,
           945,
           200,
           1650,
           90,
           50,
           249,
           1100,
           14,
           599,
           35,
           295,
           600,
           75,
           400,
           400,
           199,
           325,
           250,
           199,
           300,
           90,
           75,
           250,
           375,
           995,
           165,
           80,
           60,
           35,
           120,
           50,
           75,
           400,
           600,
           300,
           150,
           120,
           250,
           42,
           650,
           135,
           170,
           85,
           333,
           90,
           180,
           80,
           105,
           40,
           180,
           149,
           75,
           170,
           80,
           191,
           185,
           59,
           200,
           99,
           49,
           60,
           35,
           800,
           119,
           1000,
           60,
           150,
           95,
           70,
           295,
           70,
           105,
           399,
           540,
           266,
           68,
           92,
           165,
           117,
           79,
           360,
           140,
           100,
           250,
           80,
           151,
           115,
           100,
           125,
           115,
           45,
           95,
           110,
           99,
           120,
           149,
           99,
           80,
           105,
           135,
           52,
           115,
           60,
           115,
           100,
           85,
           112,
           169,
           99,
           85,
           114,
           55
          ],
          "coloraxis": "coloraxis"
         },
         "mode": "markers",
         "name": "",
         "showlegend": false,
         "subplot": "mapbox",
         "type": "scattermapbox"
        }
       ],
       "layout": {
        "coloraxis": {
         "colorbar": {
          "title": {
           "text": "Price"
          }
         },
         "colorscale": [
          [
           0,
           "#0d0887"
          ],
          [
           0.1111111111111111,
           "#46039f"
          ],
          [
           0.2222222222222222,
           "#7201a8"
          ],
          [
           0.3333333333333333,
           "#9c179e"
          ],
          [
           0.4444444444444444,
           "#bd3786"
          ],
          [
           0.5555555555555556,
           "#d8576b"
          ],
          [
           0.6666666666666666,
           "#ed7953"
          ],
          [
           0.7777777777777778,
           "#fb9f3a"
          ],
          [
           0.8888888888888888,
           "#fdca26"
          ],
          [
           1,
           "#f0f921"
          ]
         ]
        },
        "height": 500,
        "legend": {
         "tracegroupgap": 0
        },
        "mapbox": {
         "center": {
          "lat": 38.03086712776415,
          "lon": -78.48653310073713
         },
         "domain": {
          "x": [
           0,
           1
          ],
          "y": [
           0,
           1
          ]
         },
         "style": "open-street-map",
         "zoom": 10
        },
        "margin": {
         "b": 0,
         "l": 0,
         "r": 0,
         "t": 0
        },
        "template": {
         "data": {
          "bar": [
           {
            "error_x": {
             "color": "#2a3f5f"
            },
            "error_y": {
             "color": "#2a3f5f"
            },
            "marker": {
             "line": {
              "color": "#E5ECF6",
              "width": 0.5
             }
            },
            "type": "bar"
           }
          ],
          "barpolar": [
           {
            "marker": {
             "line": {
              "color": "#E5ECF6",
              "width": 0.5
             }
            },
            "type": "barpolar"
           }
          ],
          "carpet": [
           {
            "aaxis": {
             "endlinecolor": "#2a3f5f",
             "gridcolor": "white",
             "linecolor": "white",
             "minorgridcolor": "white",
             "startlinecolor": "#2a3f5f"
            },
            "baxis": {
             "endlinecolor": "#2a3f5f",
             "gridcolor": "white",
             "linecolor": "white",
             "minorgridcolor": "white",
             "startlinecolor": "#2a3f5f"
            },
            "type": "carpet"
           }
          ],
          "choropleth": [
           {
            "colorbar": {
             "outlinewidth": 0,
             "ticks": ""
            },
            "type": "choropleth"
           }
          ],
          "contour": [
           {
            "colorbar": {
             "outlinewidth": 0,
             "ticks": ""
            },
            "colorscale": [
             [
              0,
              "#0d0887"
             ],
             [
              0.1111111111111111,
              "#46039f"
             ],
             [
              0.2222222222222222,
              "#7201a8"
             ],
             [
              0.3333333333333333,
              "#9c179e"
             ],
             [
              0.4444444444444444,
              "#bd3786"
             ],
             [
              0.5555555555555556,
              "#d8576b"
             ],
             [
              0.6666666666666666,
              "#ed7953"
             ],
             [
              0.7777777777777778,
              "#fb9f3a"
             ],
             [
              0.8888888888888888,
              "#fdca26"
             ],
             [
              1,
              "#f0f921"
             ]
            ],
            "type": "contour"
           }
          ],
          "contourcarpet": [
           {
            "colorbar": {
             "outlinewidth": 0,
             "ticks": ""
            },
            "type": "contourcarpet"
           }
          ],
          "heatmap": [
           {
            "colorbar": {
             "outlinewidth": 0,
             "ticks": ""
            },
            "colorscale": [
             [
              0,
              "#0d0887"
             ],
             [
              0.1111111111111111,
              "#46039f"
             ],
             [
              0.2222222222222222,
              "#7201a8"
             ],
             [
              0.3333333333333333,
              "#9c179e"
             ],
             [
              0.4444444444444444,
              "#bd3786"
             ],
             [
              0.5555555555555556,
              "#d8576b"
             ],
             [
              0.6666666666666666,
              "#ed7953"
             ],
             [
              0.7777777777777778,
              "#fb9f3a"
             ],
             [
              0.8888888888888888,
              "#fdca26"
             ],
             [
              1,
              "#f0f921"
             ]
            ],
            "type": "heatmap"
           }
          ],
          "heatmapgl": [
           {
            "colorbar": {
             "outlinewidth": 0,
             "ticks": ""
            },
            "colorscale": [
             [
              0,
              "#0d0887"
             ],
             [
              0.1111111111111111,
              "#46039f"
             ],
             [
              0.2222222222222222,
              "#7201a8"
             ],
             [
              0.3333333333333333,
              "#9c179e"
             ],
             [
              0.4444444444444444,
              "#bd3786"
             ],
             [
              0.5555555555555556,
              "#d8576b"
             ],
             [
              0.6666666666666666,
              "#ed7953"
             ],
             [
              0.7777777777777778,
              "#fb9f3a"
             ],
             [
              0.8888888888888888,
              "#fdca26"
             ],
             [
              1,
              "#f0f921"
             ]
            ],
            "type": "heatmapgl"
           }
          ],
          "histogram": [
           {
            "marker": {
             "colorbar": {
              "outlinewidth": 0,
              "ticks": ""
             }
            },
            "type": "histogram"
           }
          ],
          "histogram2d": [
           {
            "colorbar": {
             "outlinewidth": 0,
             "ticks": ""
            },
            "colorscale": [
             [
              0,
              "#0d0887"
             ],
             [
              0.1111111111111111,
              "#46039f"
             ],
             [
              0.2222222222222222,
              "#7201a8"
             ],
             [
              0.3333333333333333,
              "#9c179e"
             ],
             [
              0.4444444444444444,
              "#bd3786"
             ],
             [
              0.5555555555555556,
              "#d8576b"
             ],
             [
              0.6666666666666666,
              "#ed7953"
             ],
             [
              0.7777777777777778,
              "#fb9f3a"
             ],
             [
              0.8888888888888888,
              "#fdca26"
             ],
             [
              1,
              "#f0f921"
             ]
            ],
            "type": "histogram2d"
           }
          ],
          "histogram2dcontour": [
           {
            "colorbar": {
             "outlinewidth": 0,
             "ticks": ""
            },
            "colorscale": [
             [
              0,
              "#0d0887"
             ],
             [
              0.1111111111111111,
              "#46039f"
             ],
             [
              0.2222222222222222,
              "#7201a8"
             ],
             [
              0.3333333333333333,
              "#9c179e"
             ],
             [
              0.4444444444444444,
              "#bd3786"
             ],
             [
              0.5555555555555556,
              "#d8576b"
             ],
             [
              0.6666666666666666,
              "#ed7953"
             ],
             [
              0.7777777777777778,
              "#fb9f3a"
             ],
             [
              0.8888888888888888,
              "#fdca26"
             ],
             [
              1,
              "#f0f921"
             ]
            ],
            "type": "histogram2dcontour"
           }
          ],
          "mesh3d": [
           {
            "colorbar": {
             "outlinewidth": 0,
             "ticks": ""
            },
            "type": "mesh3d"
           }
          ],
          "parcoords": [
           {
            "line": {
             "colorbar": {
              "outlinewidth": 0,
              "ticks": ""
             }
            },
            "type": "parcoords"
           }
          ],
          "pie": [
           {
            "automargin": true,
            "type": "pie"
           }
          ],
          "scatter": [
           {
            "marker": {
             "colorbar": {
              "outlinewidth": 0,
              "ticks": ""
             }
            },
            "type": "scatter"
           }
          ],
          "scatter3d": [
           {
            "line": {
             "colorbar": {
              "outlinewidth": 0,
              "ticks": ""
             }
            },
            "marker": {
             "colorbar": {
              "outlinewidth": 0,
              "ticks": ""
             }
            },
            "type": "scatter3d"
           }
          ],
          "scattercarpet": [
           {
            "marker": {
             "colorbar": {
              "outlinewidth": 0,
              "ticks": ""
             }
            },
            "type": "scattercarpet"
           }
          ],
          "scattergeo": [
           {
            "marker": {
             "colorbar": {
              "outlinewidth": 0,
              "ticks": ""
             }
            },
            "type": "scattergeo"
           }
          ],
          "scattergl": [
           {
            "marker": {
             "colorbar": {
              "outlinewidth": 0,
              "ticks": ""
             }
            },
            "type": "scattergl"
           }
          ],
          "scattermapbox": [
           {
            "marker": {
             "colorbar": {
              "outlinewidth": 0,
              "ticks": ""
             }
            },
            "type": "scattermapbox"
           }
          ],
          "scatterpolar": [
           {
            "marker": {
             "colorbar": {
              "outlinewidth": 0,
              "ticks": ""
             }
            },
            "type": "scatterpolar"
           }
          ],
          "scatterpolargl": [
           {
            "marker": {
             "colorbar": {
              "outlinewidth": 0,
              "ticks": ""
             }
            },
            "type": "scatterpolargl"
           }
          ],
          "scatterternary": [
           {
            "marker": {
             "colorbar": {
              "outlinewidth": 0,
              "ticks": ""
             }
            },
            "type": "scatterternary"
           }
          ],
          "surface": [
           {
            "colorbar": {
             "outlinewidth": 0,
             "ticks": ""
            },
            "colorscale": [
             [
              0,
              "#0d0887"
             ],
             [
              0.1111111111111111,
              "#46039f"
             ],
             [
              0.2222222222222222,
              "#7201a8"
             ],
             [
              0.3333333333333333,
              "#9c179e"
             ],
             [
              0.4444444444444444,
              "#bd3786"
             ],
             [
              0.5555555555555556,
              "#d8576b"
             ],
             [
              0.6666666666666666,
              "#ed7953"
             ],
             [
              0.7777777777777778,
              "#fb9f3a"
             ],
             [
              0.8888888888888888,
              "#fdca26"
             ],
             [
              1,
              "#f0f921"
             ]
            ],
            "type": "surface"
           }
          ],
          "table": [
           {
            "cells": {
             "fill": {
              "color": "#EBF0F8"
             },
             "line": {
              "color": "white"
             }
            },
            "header": {
             "fill": {
              "color": "#C8D4E3"
             },
             "line": {
              "color": "white"
             }
            },
            "type": "table"
           }
          ]
         },
         "layout": {
          "annotationdefaults": {
           "arrowcolor": "#2a3f5f",
           "arrowhead": 0,
           "arrowwidth": 1
          },
          "coloraxis": {
           "colorbar": {
            "outlinewidth": 0,
            "ticks": ""
           }
          },
          "colorscale": {
           "diverging": [
            [
             0,
             "#8e0152"
            ],
            [
             0.1,
             "#c51b7d"
            ],
            [
             0.2,
             "#de77ae"
            ],
            [
             0.3,
             "#f1b6da"
            ],
            [
             0.4,
             "#fde0ef"
            ],
            [
             0.5,
             "#f7f7f7"
            ],
            [
             0.6,
             "#e6f5d0"
            ],
            [
             0.7,
             "#b8e186"
            ],
            [
             0.8,
             "#7fbc41"
            ],
            [
             0.9,
             "#4d9221"
            ],
            [
             1,
             "#276419"
            ]
           ],
           "sequential": [
            [
             0,
             "#0d0887"
            ],
            [
             0.1111111111111111,
             "#46039f"
            ],
            [
             0.2222222222222222,
             "#7201a8"
            ],
            [
             0.3333333333333333,
             "#9c179e"
            ],
            [
             0.4444444444444444,
             "#bd3786"
            ],
            [
             0.5555555555555556,
             "#d8576b"
            ],
            [
             0.6666666666666666,
             "#ed7953"
            ],
            [
             0.7777777777777778,
             "#fb9f3a"
            ],
            [
             0.8888888888888888,
             "#fdca26"
            ],
            [
             1,
             "#f0f921"
            ]
           ],
           "sequentialminus": [
            [
             0,
             "#0d0887"
            ],
            [
             0.1111111111111111,
             "#46039f"
            ],
            [
             0.2222222222222222,
             "#7201a8"
            ],
            [
             0.3333333333333333,
             "#9c179e"
            ],
            [
             0.4444444444444444,
             "#bd3786"
            ],
            [
             0.5555555555555556,
             "#d8576b"
            ],
            [
             0.6666666666666666,
             "#ed7953"
            ],
            [
             0.7777777777777778,
             "#fb9f3a"
            ],
            [
             0.8888888888888888,
             "#fdca26"
            ],
            [
             1,
             "#f0f921"
            ]
           ]
          },
          "colorway": [
           "#636efa",
           "#EF553B",
           "#00cc96",
           "#ab63fa",
           "#FFA15A",
           "#19d3f3",
           "#FF6692",
           "#B6E880",
           "#FF97FF",
           "#FECB52"
          ],
          "font": {
           "color": "#2a3f5f"
          },
          "geo": {
           "bgcolor": "white",
           "lakecolor": "white",
           "landcolor": "#E5ECF6",
           "showlakes": true,
           "showland": true,
           "subunitcolor": "white"
          },
          "hoverlabel": {
           "align": "left"
          },
          "hovermode": "closest",
          "mapbox": {
           "style": "light"
          },
          "paper_bgcolor": "white",
          "plot_bgcolor": "#E5ECF6",
          "polar": {
           "angularaxis": {
            "gridcolor": "white",
            "linecolor": "white",
            "ticks": ""
           },
           "bgcolor": "#E5ECF6",
           "radialaxis": {
            "gridcolor": "white",
            "linecolor": "white",
            "ticks": ""
           }
          },
          "scene": {
           "xaxis": {
            "backgroundcolor": "#E5ECF6",
            "gridcolor": "white",
            "gridwidth": 2,
            "linecolor": "white",
            "showbackground": true,
            "ticks": "",
            "zerolinecolor": "white"
           },
           "yaxis": {
            "backgroundcolor": "#E5ECF6",
            "gridcolor": "white",
            "gridwidth": 2,
            "linecolor": "white",
            "showbackground": true,
            "ticks": "",
            "zerolinecolor": "white"
           },
           "zaxis": {
            "backgroundcolor": "#E5ECF6",
            "gridcolor": "white",
            "gridwidth": 2,
            "linecolor": "white",
            "showbackground": true,
            "ticks": "",
            "zerolinecolor": "white"
           }
          },
          "shapedefaults": {
           "line": {
            "color": "#2a3f5f"
           }
          },
          "ternary": {
           "aaxis": {
            "gridcolor": "white",
            "linecolor": "white",
            "ticks": ""
           },
           "baxis": {
            "gridcolor": "white",
            "linecolor": "white",
            "ticks": ""
           },
           "bgcolor": "#E5ECF6",
           "caxis": {
            "gridcolor": "white",
            "linecolor": "white",
            "ticks": ""
           }
          },
          "title": {
           "x": 0.05
          },
          "xaxis": {
           "automargin": true,
           "gridcolor": "white",
           "linecolor": "white",
           "ticks": "",
           "title": {
            "standoff": 15
           },
           "zerolinecolor": "white",
           "zerolinewidth": 2
          },
          "yaxis": {
           "automargin": true,
           "gridcolor": "white",
           "linecolor": "white",
           "ticks": "",
           "title": {
            "standoff": 15
           },
           "zerolinecolor": "white",
           "zerolinewidth": 2
          }
         }
        }
       }
      },
      "text/html": [
       "<div>\n",
       "        \n",
       "        \n",
       "            <div id=\"64827b60-727a-4c0b-a306-92773657f7bd\" class=\"plotly-graph-div\" style=\"height:500px; width:100%;\"></div>\n",
       "            <script type=\"text/javascript\">\n",
       "                require([\"plotly\"], function(Plotly) {\n",
       "                    window.PLOTLYENV=window.PLOTLYENV || {};\n",
       "                    \n",
       "                if (document.getElementById(\"64827b60-727a-4c0b-a306-92773657f7bd\")) {\n",
       "                    Plotly.newPlot(\n",
       "                        '64827b60-727a-4c0b-a306-92773657f7bd',\n",
       "                        [{\"hovertemplate\": \"<b>%{hovertext}</b><br><br>lat=%{lat}<br>long=%{lon}<br>Price=%{marker.color}<extra></extra>\", \"hovertext\": [\"10th and Page\", \"10th and Page\", \"Barracks Rugby\", \"Barracks Rugby\", \"Barracks Rugby\", \"Barracks Rugby\", \"10th and Page\", \"10th and Page\", \"Barracks Rugby\", \"Barracks Rugby\", \"Barracks Rugby\", \"Barracks Rugby\", \"Barracks Rugby\", \"Barracks Rugby\", \"Belmont\", \"Belmont\", \"Belmont\", \"Belmont\", \"Fifeville\", \"Fifeville\", \"Fifeville\", \"Fifeville\", \"Fifeville\", \"Fifeville\", \"Fry Spring\", \"Fry Spring\", \"Fry Spring\", \"Fry Spring\", \"Greenbrier\", \"Greenbrier\", \"Greenbrier\", \"Jefferson Park\", \"Johnson Village\", \"Johnson Village\", \"Lewis Mountain\", \"Lewis Mountain\", \"Lewis Mountain\", \"Lewis Mountain\", \"Lewis Mountain\", \"Lewis Mountain\", \"Locust Grove\", \"Locust Grove\", \"Locust Grove\", \"Locust Grove\", \"Locust Grove\", \"Locust Grove\", \"Locust Grove\", \"Locust Grove\", \"Locust Grove\", \"Martha Jefferson\", \"Martha Jefferson\", \"Martha Jefferson\", \"Martha Jefferson\", \"Martha Jefferson\", \"Martha Jefferson\", \"Martha Jefferson\", \"Martha Jefferson\", \"Martha Jefferson\", \"North Downtown\", \"North Downtown\", \"North Downtown\", \"North Downtown\", \"North Downtown\", \"North Downtown\", \"Ridge Street\", \"Ridge Street\", \"Ridge Street\", \"Ridge Street\", \"Ridge Street\", \"Ridge Street\", \"Venable\", \"Venable\", \"Venable\", \"Venable\", \"Venable\", \"Woolen Mills\", \"Barracks Road\", \"Locust Grove\", \"Fry Spring\", \"North Downtown\", \"10th and Page\", \"Barracks Road\", \"Barracks Rugby\", \"Barracks Rugby\", \"Belmont\", \"Belmont\", \"Belmont\", \"Belmont\", \"Belmont\", \"Belmont\", \"Belmont\", \"Belmont\", \"Fifeville\", \"Fifeville\", \"Fifeville\", \"Fifeville\", \"Fry Spring\", \"Fry Spring\", \"Greenbrier\", \"Jefferson Park\", \"Johnson Village\", \"Johnson Village\", \"Johnson Village\", \"Lewis Mountain\", \"Locust Grove\", \"Locust Grove\", \"Locust Grove\", \"Locust Grove\", \"Martha Jefferson\", \"North Downtown\", \"North Downtown\", \"North Downtown\", \"North Downtown\", \"North Downtown\", \"North Downtown\", \"North Downtown\", \"Ridge Street\", \"Woolen Mills\", \"Woolen Mills\", \"Woolen Mills\", \"10th and Page\", \"10th and Page\", \"10th and Page\", \"Barracks Rugby\", \"Barracks Rugby\", \"Barracks Rugby\", \"Barracks Rugby\", \"Barracks Rugby\", \"Barracks Rugby\", \"Barracks Rugby\", \"Barracks Rugby\", \"Barracks Rugby\", \"Barracks Rugby\", \"Barracks Rugby\", \"Belmont\", \"Belmont\", \"Belmont\", \"Belmont\", \"Belmont\", \"Belmont\", \"Belmont\", \"Belmont\", \"Belmont\", \"Belmont\", \"Belmont\", \"Belmont\", \"Belmont\", \"Belmont\", \"Belmont\", \"Belmont\", \"Belmont\", \"Belmont\", \"Belmont\", \"Belmont\", \"Belmont\", \"Belmont\", \"Belmont\", \"Belmont\", \"Belmont\", \"Belmont\", \"Belmont\", \"Belmont\", \"Belmont\", \"Belmont\", \"Belmont\", \"Belmont\", \"Fifeville \", \"Fifeville\", \"Fifeville\", \"Fifeville\", \"Fifeville\", \"Fifeville\", \"Fifeville\", \"Fifeville\", \"Fifeville\", \"Fifeville\", \"Fifeville\", \"Fifeville\", \"Fifeville\", \"Fifeville\", \"Fifeville\", \"Fifeville\", \"Fifeville\", \"Fifeville\", \"Fifeville\", \"Fifeville\", \"Fry Spring\", \"Fry Spring\", \"Fry Spring\", \"Fry Spring\", \"Fry Spring\", \"Fry Spring\", \"Fry Spring\", \"Fry Spring\", \"Fry Spring\", \"Fry Spring\", \"Fry Spring\", \"Fry Spring\", \"Fry Spring\", \"Greenbrier\", \"Greenbrier\", \"Jefferson Park\", \"Jefferson Park\", \"Jefferson Park\", \"Jefferson Park\", \"Johnson Village\", \"Johnson Village\", \"Johnson Village\", \"Johnson Village\", \"Lewis Mountain\", \"Lewis Mountain\", \"Lewis Mountain\", \"Lewis Mountain\", \"Lewis Mountain\", \"Lewis Mountain\", \"Locust Grove\", \"Locust Grove\", \"Locust Grove\", \"Locust Grove\", \"Locust Grove\", \"Locust Grove\", \"Locust Grove\", \"Locust Grove\", \"Locust Grove\", \"Locust Grove\", \"Locust Grove\", \"Locust Grove\", \"Locust Grove\", \"Locust Grove\", \"Locust Grove\", \"Locust Grove\", \"Martha Jefferson\", \"Martha Jefferson\", \"Martha Jefferson\", \"Martha Jefferson\", \"Martha Jefferson\", \"Martha Jefferson\", \"Martha Jefferson\", \"Martha Jefferson\", \"Martha Jefferson\", \"Martha Jefferson\", \"Martha Jefferson\", \"Martha Jefferson\", \"North Downtown\", \"North Downtown\", \"North Downtown\", \"North Downtown\", \"North Downtown\", \"North Downtown\", \"North Downtown\", \"North Downtown\", \"North Downtown\", \"North Downtown\", \"North Downtown\", \"North Downtown\", \"North Downtown\", \"North Downtown\", \"Ridge Street\", \"Ridge Street\", \"Ridge Street\", \"Ridge Street\", \"Ridge Street\", \"Ridge Street\", \"Ridge Street\", \"Ridge Street\", \"Ridge Street\", \"Ridge Street\", \"Ridge Street\", \"Ridge Street\", \"Ridge Street\", \"Ridge Street\", \"Rose Hill\", \"Starr Hill\", \"Venable\", \"Venable\", \"Venable\", \"Venable\", \"Venable\", \"Venable\", \"Venable\", \"Venable\", \"Venable\", \"Venable\", \"Woolen Mills\", \"Woolen Mills\", \"Woolen Mills\", \"Woolen Mills\", \"Woolen Mills\", \"Woolen Mills\", \"Woolen Mills\", \"Woolen Mills\", \"Woolen Mills\", \"Woolen Mills\", \"Woolen Mills\", null, \"Fry Spring\", \"Fry Spring\", \"Jefferson Park\", \"Fry Spring\", \"Fry Spring\", \"Jefferson Park\", \"Fry Spring\", \"Johnson Village\", \"Jefferson Park\", \"Venable\", \"Venable\", \"Ridge Street\", \"Ridge Street\", \"Ridge Street\", \"10th and Page\", \"Starr Hill\", \"Ridge Street\", \"Fifeville\", \"Fifeville\", \"Belmont\", \"North Downtown\", \"North Downtown\", \"Belmont\", \"Belmont\", \"Belmont\", \"North Downtown\", \"Locust Grove\", \"Barracks Road\", \"Johnson Village\", \"Venable\", \"Fifeville\", \"Venable\", \"Ridge Street\", \"Fifeville\", \"Belmont\", \"Belmont\", \"North Downtown\", \"Jefferson Park\", \"Jefferson Park\", \"Venable\", \"Belmont\", \"Belmont\", \"North Downtown\", \"Venable\", \"Barracks Rugby\", \"North Downtown\", \"Locust Grove\", \"Barracks Road\", \"Venable\", \"Venable\", \"North Downtown\", \"Jefferson Park\", \"Johnson Village\", \"Ridge Street\", \"North Downtown\", \"Belmont\", \"Martha Jefferson\", \"Fry Spring\", \"Belmont\", \"Belmont\", \"Jefferson Park\", \"Johnson Village\", \"Fifeville\", \"Ridge Street\", \"Belmont\", \"Belmont\", \"Locust Grove\", \"Venable\", \"Barracks Road\", \"Barracks Rugby\", \"Barracks Rugby\", \"Fry Spring\", \"Johnson Village\", \"North Downtown\", \"Fry Spring\", \"Fifeville\", \"Johnson Village\", \"Belmont\", \"Belmont\", \"Jefferson Park\", \"Barracks Road\", \"Belmont\", \"Jefferson Park\", \"North Downtown\", \"Martha Jefferson\", \"Johnson Village\", \"Belmont\", \"Belmont\", \"Martha Jefferson\", \"Fry Spring\", \"Starr Hill\", \"Belmont\", \"Locust Grove\", \"Martha Jefferson\", \"North Downtown\", \"Belmont\", \"Woolen Mills\", \"Fry Spring\", \"Ridge Street\", \"North Downtown\", \"Belmont\", \"Ridge Street\", \"Belmont\", \"Ridge Street\", \"North Downtown\", \"North Downtown\", \"Belmont\", \"Belmont\", \"Ridge Street\", \"North Downtown\", \"Fry Spring\", \"Ridge Street\", \"10th and Page\"], \"lat\": [38.033436, 38.032976, 38.048887, 38.043018000000004, 38.045126, 38.049062, 38.033436, 38.032976, 38.048887, 38.043018000000004, 38.045126, 38.049062, 38.044043, 38.051253, 38.020273, 38.022322, 38.014095, 38.020328, 38.029932, 38.028261, 38.022928, 38.028577, 38.029819, 38.028224, 38.015633, 38.01467, 38.016697, 38.016013, 38.062717, 38.056369, 38.061073, 38.028748, 38.020489, 38.021471, 38.041805, 38.040407, 38.041823, 38.039224, 38.037033, 38.037909, 38.044574, 38.043406, 38.040641, 38.041125, 38.041182, 38.040092, 38.040973, 38.04045, 38.037612, 38.029376, 38.032438, 38.034044, 38.028015, 38.027577, 38.035664, 38.029617, 38.027741, 38.030653, 38.038832, 38.041312, 38.033631, 38.033656, 38.030829, 38.030514, 38.023702, 38.017623, 38.023513, 38.014634, 38.018524, 38.019304, 38.045904, 38.048798, 38.047154, 38.047996, 38.035601, 38.0265, 38.051111, 38.038638, 38.014004, 38.028792, 38.037432, 38.050882, 38.046, 38.042415, 38.020488, 38.022657, 38.023601, 38.024444, 38.024979, 38.02748, 38.026307, 38.022765, 38.028592, 38.030034, 38.028282, 38.030234, 38.018502, 38.025394, 38.061409, 38.027162, 38.021892, 38.016536, 38.01968, 38.041443, 38.049694, 38.043189, 38.04061, 38.0368, 38.02888, 38.037268, 38.03219, 38.032684, 38.031912, 38.031959, 38.03356, 38.031647, 38.020812, 38.028644, 38.02894, 38.028296, 38.031901, 38.034679, 38.035807, 38.047917, 38.048711, 38.047994, 38.046863, 38.046423, 38.052839, 38.052296, 38.046143, 38.043899, 38.052512, 38.048863, 38.025205, 38.019242, 38.020216, 38.017222, 38.019301, 38.020574, 38.023453, 38.020508, 38.026527, 38.016785, 38.026552, 38.017005, 38.019762, 38.020894, 38.025327, 38.021333, 38.027098, 38.026242, 38.023975, 38.022753, 38.02221, 38.025813, 38.016118, 38.017078, 38.021403, 38.020722, 38.020973, 38.026478, 38.024704, 38.024079, 38.024387, 38.023156, 38.030224, 38.030267, 38.029046, 38.029544, 38.029803, 38.03121, 38.031159, 38.030771, 38.028713, 38.029814, 38.026614, 38.02879, 38.023277, 38.022674, 38.02846, 38.029587, 38.029251, 38.029792, 38.028016, 38.027629, 38.023581, 38.011809, 38.014887, 38.016331, 38.016161, 38.01339, 38.018106, 38.02557, 38.023726, 38.022308, 38.011673, 38.01512, 38.017982, 38.059099, 38.063491, 38.030082, 38.0315, 38.028516, 38.025528, 38.023643, 38.016441, 38.02188, 38.02176, 38.040996, 38.039586, 38.039997, 38.041122, 38.040732, 38.038331, 38.044422, 38.04546, 38.044658, 38.040405, 38.039717, 38.039997, 38.044667, 38.044651, 38.039149, 38.043645, 38.044648, 38.043046, 38.047751, 38.040739, 38.043098, 38.039473, 38.031404, 38.034259, 38.032928, 38.033041, 38.033861, 38.033859, 38.029842, 38.034349, 38.029542, 38.030523, 38.028337, 38.027802, 38.035243, 38.036076, 38.035689, 38.033802, 38.036209, 38.034804, 38.035681, 38.035631, 38.033724, 38.036655, 38.035061, 38.030696, 38.03212, 38.030856, 38.018941, 38.021172, 38.025534, 38.024623, 38.022429, 38.014381, 38.0232, 38.025059, 38.022924, 38.023362, 38.02297, 38.021951, 38.021276, 38.0192, 38.040757, 38.031316, 38.046857, 38.035168, 38.045255, 38.040013, 38.046855, 38.044226, 38.045833, 38.038378, 38.046016, 38.042501, 38.028627, 38.028999, 38.026532, 38.02933, 38.028647, 38.03027, 38.025033, 38.025819, 38.024901, 38.023184, 38.024262, null, 38.021999, 38.022247, 38.028324, 38.017437, 38.022048, 38.028011, 38.015853, 38.020289, 38.031611, 38.044162, 38.037961, 38.018557, 38.017457, 38.017646, 38.037487, 38.032147, 38.02353, 38.028688, 38.028711, 38.018457, 38.030437, 38.029773, 38.024943, 38.027044, 38.02437, 38.035908, 38.050051, 38.048702, 38.022629, 38.037564, 38.021552, 38.036, 38.018005, 38.030531, 38.025012, 38.024962, 38.040983, 38.023832, 38.027581, 38.036421, 38.016157, 38.024668, 38.038132, 38.035653, 38.046021, 38.029944, 38.038345, 38.049399, 38.036359, 38.037332, 38.038088, 38.025248, 38.018923, 38.016368, 38.029415, 38.026278, 38.035561, 38.023581, 38.020187, 38.024497, 38.027676, 38.018315, 38.024334, 38.017994, 38.025649, 38.025399, 38.043263, 38.046197, 38.050889, 38.048484, 38.044204, 38.020684, 38.017453, 38.031652, 38.014334, 38.025948, 38.019149, 38.024695, 38.027834, 38.026387, 38.049317, 38.023884, 38.027832, 38.030325, 38.032731, 38.020965, 38.02077, 38.023189, 38.026834, 38.017651, 38.031181, 38.016363, 38.041613, 38.035832, 38.036822, 38.023517, 38.033043, 38.01545, 38.020915, 38.029536, 38.016926, 38.018571, 38.024649, 38.017288, 38.026124, 38.030364, 38.026068, 38.023557, 38.025363, 38.03231, 38.013307, 38.022185, 38.034976], \"legendgroup\": \"\", \"lon\": [-78.492183, -78.496778, -78.494272, -78.485079, -78.488286, -78.491114, -78.492183, -78.496778, -78.494272, -78.485079, -78.488286, -78.491114, -78.492333, -78.492528, -78.480458, -78.481743, -78.483152, -78.474543, -78.493544, -78.491158, -78.499922, -78.499644, -78.488981, -78.502271, -78.509248, -78.500963, -78.518265, -78.510978, -78.478213, -78.477416, -78.475794, -78.509269, -78.506938, -78.509591, -78.508238, -78.510882, -78.510264, -78.511368, -78.511745, -78.509641, -78.460573, -78.455471, -78.471626, -78.47029, -78.467042, -78.468766, -78.463691, -78.463704, -78.460926, -78.470275, -78.468506, -78.46953, -78.472317, -78.466735, -78.466363, -78.467931, -78.466659, -78.471697, -78.470015, -78.478195, -78.479973, -78.47643, -78.481762, -78.482983, -78.482075, -78.494184, -78.48301, -78.49911, -78.490113, -78.492768, -78.502967, -78.500407, -78.495573, -78.495273, -78.498934, -78.463522, -78.508672, -78.464243, -78.502969, -78.476929, -78.493808, -78.507195, -78.484533, -78.487276, -78.475846, -78.476542, -78.48056, -78.47941, -78.475577, -78.477587, -78.47885, -78.472061, -78.490807, -78.49176, -78.490519, -78.488672, -78.508928, -78.512449, -78.474643, -78.516375, -78.501476, -78.499501, -78.500932, -78.509271, -78.454223, -78.464701, -78.470523, -78.460969, -78.475772, -78.478536, -78.478299, -78.47859, -78.481066, -78.481883, -78.474218, -78.482251, -78.484743, -78.464489, -78.462481, -78.461587, -78.493194, -78.491241, -78.488891, -78.485253, -78.492819, -78.491981, -78.480889, -78.481803, -78.487069, -78.488106, -78.481905, -78.490749, -78.490942, -78.486793, -78.476766, -78.48007, -78.474947, -78.481096, -78.481586, -78.481116, -78.476406, -78.482361, -78.474512, -78.483136, -78.478328, -78.483443, -78.474452, -78.468004, -78.478524, -78.474098, -78.47423, -78.473139, -78.480761, -78.473062, -78.472945, -78.477388, -78.477265, -78.476505, -78.482528, -78.475945, -78.469398, -78.478847, -78.476551, -78.476899, -78.473044, -78.471296, -78.493155, -78.488123, -78.493515, -78.488975, -78.4914, -78.493353, -78.493753, -78.494585, -78.493188, -78.487963, -78.502297, -78.491635, -78.499809, -78.497986, -78.50085, -78.495655, -78.496007, -78.496655, -78.49495, -78.488234, -78.513328, -78.513717, -78.50908, -78.509819, -78.499048, -78.504534, -78.51687, -78.512478, -78.518886, -78.515014, -78.512481, -78.509008, -78.508728, -78.473133, -78.476484, -78.506809, -78.501787, -78.505556, -78.515419, -78.504711, -78.50072, -78.505458, -78.503876, -78.514705, -78.511033, -78.512333, -78.509854, -78.511366, -78.51324, -78.457557, -78.463262, -78.460411, -78.465067, -78.466018, -78.470353, -78.470952, -78.455984, -78.461584, -78.457772, -78.455569, -78.460139, -78.462332, -78.469099, -78.46052, -78.460477, -78.468476, -78.467454, -78.468717, -78.469148, -78.47053, -78.466259, -78.469486, -78.467891, -78.469005, -78.472266, -78.466702, -78.469924, -78.479758, -78.482238, -78.476392, -78.481603, -78.47852, -78.478131, -78.48166, -78.470624, -78.480367, -78.478664, -78.477182, -78.481313, -78.482961, -78.482925, -78.492385, -78.484146, -78.48166, -78.481384, -78.488014, -78.498927, -78.482377, -78.489922, -78.489974, -78.488432, -78.491598, -78.490088, -78.484533, -78.494084, -78.488112, -78.490628, -78.501286, -78.493783, -78.500029, -78.492361, -78.500168, -78.501444, -78.49958, -78.499023, -78.501728, -78.499435, -78.463954, -78.463937, -78.463204, -78.462803, -78.462323, -78.463522, -78.46229, -78.464496, -78.46387, -78.460258, -78.461916, null, -78.51971, -78.518559, -78.51849, -78.517384, -78.516549, -78.510099, -78.506915, -78.504909, -78.498047, -78.498029, -78.496024, -78.49367, -78.492526, -78.492354, -78.491886, -78.48989, -78.488862, -78.487386, -78.486973, -78.484197, -78.483364, -78.483071, -78.476836, -78.474832, -78.474702, -78.47312, -78.456003, -78.505275, -78.501424, -78.500087, -78.499438, -78.497929, -78.493662, -78.491005, -78.476737, -78.475051, -78.474171, -78.521671, -78.508684, -78.497977, -78.483966, -78.477412, -78.473504, -78.494842, -78.485336, -78.480198, -78.461044, -78.507156, -78.498701, -78.495445, -78.477539, -78.521454, -78.501554, -78.492704, -78.481379, -78.477884, -78.465375, -78.513328, -78.483652, -78.478711, -78.517299, -78.501103, -78.497206, -78.492177, -78.479113, -78.47853, -78.457309, -78.499441, -78.505554, -78.489068, -78.485558, -78.511001, -78.500994, -78.478339, -78.507155, -78.500795, -78.500023, -78.479865, -78.476582, -78.515262, -78.507297, -78.480711, -78.509944, -78.482742, -78.47276, -78.500337, -78.483131, -78.474666, -78.468007, -78.510667, -78.490863, -78.472538, -78.472755, -78.469782, -78.473446, -78.476858, -78.461707, -78.515368, -78.493912, -78.483303, -78.472859, -78.495546, -78.476485, -78.494192, -78.480846, -78.482501, -78.476949, -78.47527, -78.481303, -78.480771, -78.516887, -78.49009, -78.492979], \"marker\": {\"color\": [141.0, 164.0, 136.0, 105.0, 234.0, 179.0, 141.0, 164.0, 136.0, 105.0, 234.0, 179.0, 51.0, 526.0, 76.0, 206.0, 75.0, 132.0, 152.0, 179.0, 221.0, 302.0, 514.0, 671.0, 607.0, 70.0, 702.0, 359.0, 301.0, 702.0, 410.0, 39.0, 155.0, 502.0, 15.0, 180.0, 238.0, 210.0, 911.0, 821.0, 206.0, 86.0, 125.0, 60.0, 351.0, 398.0, 416.0, 176.0, 40.0, 930.0, 91.0, 607.0, 51.0, 147.0, 175.0, 177.0, 71.0, 635.0, 75.0, 463.0, 138.0, 554.0, 131.0, 160.0, 208.0, 943.0, 379.0, 69.0, 767.0, 795.0, 1604.0, 140.0, 612.0, 412.0, 31.0, 303.0, 103.0, 186.0, 99.0, 31.0, 59.0, 101.0, 188.0, 82.0, 63.0, 118.0, 120.0, 123.0, 122.0, 228.0, 252.0, 156.0, 80.0, 82.0, 117.0, 83.0, 77.0, 103.0, 126.0, 88.0, 67.0, 90.0, 83.0, 538.0, 240.0, 72.0, 177.0, 100.0, 399.0, 76.0, 470.0, 150.0, 174.0, 172.0, 184.0, 172.0, 191.0, 71.0, 72.0, 134.0, 63.0, 86.0, 207.0, 76.0, 98.0, 88.0, 85.0, 102.0, 251.0, 75.0, 130.0, 112.0, 101.0, 128.0, 201.0, 114.0, 307.0, 56.0, 137.0, 201.0, 412.0, 358.0, 152.0, 331.0, 274.0, 99.0, 77.0, 34.0, 130.0, 197.0, 802.0, 99.0, 104.0, 113.0, 159.0, 147.0, 87.0, 46.0, 207.0, 92.0, 99.0, 77.0, 152.0, 156.0, 97.0, 120.0, 96.0, 802.0, 134.0, 243.0, 165.0, 506.0, 150.0, 232.0, 231.0, 112.0, 203.0, 495.0, 86.0, 62.0, 114.0, 389.0, 67.0, 224.0, 72.0, 281.0, 60.0, 106.0, 459.0, 531.0, 202.0, 47.0, 115.0, 117.0, 660.0, 520.0, 86.0, 216.0, 98.0, 43.0, 77.0, 200.0, 60.0, 137.0, 277.0, 93.0, 335.0, 53.0, 64.0, 122.0, 405.0, 150.0, 181.0, 179.0, 173.0, 79.0, 98.0, 184.0, 378.0, 101.0, 1204.0, 92.0, 62.0, 119.0, 55.0, 125.0, 204.0, 68.0, 127.0, 168.0, 87.0, 203.0, 72.0, 152.0, 66.0, 202.0, 363.0, 502.0, 86.0, 129.0, 167.0, 191.0, 50.0, 93.0, 166.0, 325.0, 186.0, 232.0, 83.0, 327.0, 71.0, 178.0, 116.0, 169.0, 130.0, 129.0, 161.0, 608.0, 125.0, 132.0, 131.0, 137.0, 65.0, 109.0, 390.0, 298.0, 93.0, 172.0, 220.0, 207.0, 91.0, 140.0, 66.0, 237.0, 71.0, 925.0, 178.0, 88.0, 1513.0, 251.0, 61.0, 708.0, 751.0, 145.0, 77.0, 180.0, 188.0, 72.0, 146.0, 144.0, 66.0, 176.0, 126.0, 601.0, null, 1000.0, 945.0, 200.0, 1650.0, 90.0, 50.0, 249.0, 1100.0, 14.0, 599.0, 35.0, 295.0, 600.0, 75.0, 400.0, 400.0, 199.0, 325.0, 250.0, 199.0, 300.0, 90.0, 75.0, 250.0, 375.0, 995.0, 165.0, 80.0, 60.0, 35.0, 120.0, 50.0, 75.0, 400.0, 600.0, 300.0, 150.0, 120.0, 250.0, 42.0, 650.0, 135.0, 170.0, 85.0, 333.0, 90.0, 180.0, 80.0, 105.0, 40.0, 180.0, 149.0, 75.0, 170.0, 80.0, 191.0, 185.0, 59.0, 200.0, 99.0, 49.0, 60.0, 35.0, 800.0, 119.0, 1000.0, 60.0, 150.0, 95.0, 70.0, 295.0, 70.0, 105.0, 399.0, 540.0, 266.0, 68.0, 92.0, 165.0, 117.0, 79.0, 360.0, 140.0, 100.0, 250.0, 80.0, 151.0, 115.0, 100.0, 125.0, 115.0, 45.0, 95.0, 110.0, 99.0, 120.0, 149.0, 99.0, 80.0, 105.0, 135.0, 52.0, 115.0, 60.0, 115.0, 100.0, 85.0, 112.0, 169.0, 99.0, 85.0, 114.0, 55.0], \"coloraxis\": \"coloraxis\"}, \"mode\": \"markers\", \"name\": \"\", \"showlegend\": false, \"subplot\": \"mapbox\", \"type\": \"scattermapbox\"}],\n",
       "                        {\"coloraxis\": {\"colorbar\": {\"title\": {\"text\": \"Price\"}}, \"colorscale\": [[0.0, \"#0d0887\"], [0.1111111111111111, \"#46039f\"], [0.2222222222222222, \"#7201a8\"], [0.3333333333333333, \"#9c179e\"], [0.4444444444444444, \"#bd3786\"], [0.5555555555555556, \"#d8576b\"], [0.6666666666666666, \"#ed7953\"], [0.7777777777777778, \"#fb9f3a\"], [0.8888888888888888, \"#fdca26\"], [1.0, \"#f0f921\"]]}, \"height\": 500, \"legend\": {\"tracegroupgap\": 0}, \"mapbox\": {\"center\": {\"lat\": 38.03086712776415, \"lon\": -78.48653310073713}, \"domain\": {\"x\": [0.0, 1.0], \"y\": [0.0, 1.0]}, \"style\": \"open-street-map\", \"zoom\": 10}, \"margin\": {\"b\": 0, \"l\": 0, \"r\": 0, \"t\": 0}, \"template\": {\"data\": {\"bar\": [{\"error_x\": {\"color\": \"#2a3f5f\"}, \"error_y\": {\"color\": \"#2a3f5f\"}, \"marker\": {\"line\": {\"color\": \"#E5ECF6\", \"width\": 0.5}}, \"type\": \"bar\"}], \"barpolar\": [{\"marker\": {\"line\": {\"color\": \"#E5ECF6\", \"width\": 0.5}}, \"type\": \"barpolar\"}], \"carpet\": [{\"aaxis\": {\"endlinecolor\": \"#2a3f5f\", \"gridcolor\": \"white\", \"linecolor\": \"white\", \"minorgridcolor\": \"white\", \"startlinecolor\": \"#2a3f5f\"}, \"baxis\": {\"endlinecolor\": \"#2a3f5f\", \"gridcolor\": \"white\", \"linecolor\": \"white\", \"minorgridcolor\": \"white\", \"startlinecolor\": \"#2a3f5f\"}, \"type\": \"carpet\"}], \"choropleth\": [{\"colorbar\": {\"outlinewidth\": 0, \"ticks\": \"\"}, \"type\": \"choropleth\"}], \"contour\": [{\"colorbar\": {\"outlinewidth\": 0, \"ticks\": \"\"}, \"colorscale\": [[0.0, \"#0d0887\"], [0.1111111111111111, \"#46039f\"], [0.2222222222222222, \"#7201a8\"], [0.3333333333333333, \"#9c179e\"], [0.4444444444444444, \"#bd3786\"], [0.5555555555555556, \"#d8576b\"], [0.6666666666666666, \"#ed7953\"], [0.7777777777777778, \"#fb9f3a\"], [0.8888888888888888, \"#fdca26\"], [1.0, \"#f0f921\"]], \"type\": \"contour\"}], \"contourcarpet\": [{\"colorbar\": {\"outlinewidth\": 0, \"ticks\": \"\"}, \"type\": \"contourcarpet\"}], \"heatmap\": [{\"colorbar\": {\"outlinewidth\": 0, \"ticks\": \"\"}, \"colorscale\": [[0.0, \"#0d0887\"], [0.1111111111111111, \"#46039f\"], [0.2222222222222222, \"#7201a8\"], [0.3333333333333333, \"#9c179e\"], [0.4444444444444444, \"#bd3786\"], [0.5555555555555556, \"#d8576b\"], [0.6666666666666666, \"#ed7953\"], [0.7777777777777778, \"#fb9f3a\"], [0.8888888888888888, \"#fdca26\"], [1.0, \"#f0f921\"]], \"type\": \"heatmap\"}], \"heatmapgl\": [{\"colorbar\": {\"outlinewidth\": 0, \"ticks\": \"\"}, \"colorscale\": [[0.0, \"#0d0887\"], [0.1111111111111111, \"#46039f\"], [0.2222222222222222, \"#7201a8\"], [0.3333333333333333, \"#9c179e\"], [0.4444444444444444, \"#bd3786\"], [0.5555555555555556, \"#d8576b\"], [0.6666666666666666, \"#ed7953\"], [0.7777777777777778, \"#fb9f3a\"], [0.8888888888888888, \"#fdca26\"], [1.0, \"#f0f921\"]], \"type\": \"heatmapgl\"}], \"histogram\": [{\"marker\": {\"colorbar\": {\"outlinewidth\": 0, \"ticks\": \"\"}}, \"type\": \"histogram\"}], \"histogram2d\": [{\"colorbar\": {\"outlinewidth\": 0, \"ticks\": \"\"}, \"colorscale\": [[0.0, \"#0d0887\"], [0.1111111111111111, \"#46039f\"], [0.2222222222222222, \"#7201a8\"], [0.3333333333333333, \"#9c179e\"], [0.4444444444444444, \"#bd3786\"], [0.5555555555555556, \"#d8576b\"], [0.6666666666666666, \"#ed7953\"], [0.7777777777777778, \"#fb9f3a\"], [0.8888888888888888, \"#fdca26\"], [1.0, \"#f0f921\"]], \"type\": \"histogram2d\"}], \"histogram2dcontour\": [{\"colorbar\": {\"outlinewidth\": 0, \"ticks\": \"\"}, \"colorscale\": [[0.0, \"#0d0887\"], [0.1111111111111111, \"#46039f\"], [0.2222222222222222, \"#7201a8\"], [0.3333333333333333, \"#9c179e\"], [0.4444444444444444, \"#bd3786\"], [0.5555555555555556, \"#d8576b\"], [0.6666666666666666, \"#ed7953\"], [0.7777777777777778, \"#fb9f3a\"], [0.8888888888888888, \"#fdca26\"], [1.0, \"#f0f921\"]], \"type\": \"histogram2dcontour\"}], \"mesh3d\": [{\"colorbar\": {\"outlinewidth\": 0, \"ticks\": \"\"}, \"type\": \"mesh3d\"}], \"parcoords\": [{\"line\": {\"colorbar\": {\"outlinewidth\": 0, \"ticks\": \"\"}}, \"type\": \"parcoords\"}], \"pie\": [{\"automargin\": true, \"type\": \"pie\"}], \"scatter\": [{\"marker\": {\"colorbar\": {\"outlinewidth\": 0, \"ticks\": \"\"}}, \"type\": \"scatter\"}], \"scatter3d\": [{\"line\": {\"colorbar\": {\"outlinewidth\": 0, \"ticks\": \"\"}}, \"marker\": {\"colorbar\": {\"outlinewidth\": 0, \"ticks\": \"\"}}, \"type\": \"scatter3d\"}], \"scattercarpet\": [{\"marker\": {\"colorbar\": {\"outlinewidth\": 0, \"ticks\": \"\"}}, \"type\": \"scattercarpet\"}], \"scattergeo\": [{\"marker\": {\"colorbar\": {\"outlinewidth\": 0, \"ticks\": \"\"}}, \"type\": \"scattergeo\"}], \"scattergl\": [{\"marker\": {\"colorbar\": {\"outlinewidth\": 0, \"ticks\": \"\"}}, \"type\": \"scattergl\"}], \"scattermapbox\": [{\"marker\": {\"colorbar\": {\"outlinewidth\": 0, \"ticks\": \"\"}}, \"type\": \"scattermapbox\"}], \"scatterpolar\": [{\"marker\": {\"colorbar\": {\"outlinewidth\": 0, \"ticks\": \"\"}}, \"type\": \"scatterpolar\"}], \"scatterpolargl\": [{\"marker\": {\"colorbar\": {\"outlinewidth\": 0, \"ticks\": \"\"}}, \"type\": \"scatterpolargl\"}], \"scatterternary\": [{\"marker\": {\"colorbar\": {\"outlinewidth\": 0, \"ticks\": \"\"}}, \"type\": \"scatterternary\"}], \"surface\": [{\"colorbar\": {\"outlinewidth\": 0, \"ticks\": \"\"}, \"colorscale\": [[0.0, \"#0d0887\"], [0.1111111111111111, \"#46039f\"], [0.2222222222222222, \"#7201a8\"], [0.3333333333333333, \"#9c179e\"], [0.4444444444444444, \"#bd3786\"], [0.5555555555555556, \"#d8576b\"], [0.6666666666666666, \"#ed7953\"], [0.7777777777777778, \"#fb9f3a\"], [0.8888888888888888, \"#fdca26\"], [1.0, \"#f0f921\"]], \"type\": \"surface\"}], \"table\": [{\"cells\": {\"fill\": {\"color\": \"#EBF0F8\"}, \"line\": {\"color\": \"white\"}}, \"header\": {\"fill\": {\"color\": \"#C8D4E3\"}, \"line\": {\"color\": \"white\"}}, \"type\": \"table\"}]}, \"layout\": {\"annotationdefaults\": {\"arrowcolor\": \"#2a3f5f\", \"arrowhead\": 0, \"arrowwidth\": 1}, \"coloraxis\": {\"colorbar\": {\"outlinewidth\": 0, \"ticks\": \"\"}}, \"colorscale\": {\"diverging\": [[0, \"#8e0152\"], [0.1, \"#c51b7d\"], [0.2, \"#de77ae\"], [0.3, \"#f1b6da\"], [0.4, \"#fde0ef\"], [0.5, \"#f7f7f7\"], [0.6, \"#e6f5d0\"], [0.7, \"#b8e186\"], [0.8, \"#7fbc41\"], [0.9, \"#4d9221\"], [1, \"#276419\"]], \"sequential\": [[0.0, \"#0d0887\"], [0.1111111111111111, \"#46039f\"], [0.2222222222222222, \"#7201a8\"], [0.3333333333333333, \"#9c179e\"], [0.4444444444444444, \"#bd3786\"], [0.5555555555555556, \"#d8576b\"], [0.6666666666666666, \"#ed7953\"], [0.7777777777777778, \"#fb9f3a\"], [0.8888888888888888, \"#fdca26\"], [1.0, \"#f0f921\"]], \"sequentialminus\": [[0.0, \"#0d0887\"], [0.1111111111111111, \"#46039f\"], [0.2222222222222222, \"#7201a8\"], [0.3333333333333333, \"#9c179e\"], [0.4444444444444444, \"#bd3786\"], [0.5555555555555556, \"#d8576b\"], [0.6666666666666666, \"#ed7953\"], [0.7777777777777778, \"#fb9f3a\"], [0.8888888888888888, \"#fdca26\"], [1.0, \"#f0f921\"]]}, \"colorway\": [\"#636efa\", \"#EF553B\", \"#00cc96\", \"#ab63fa\", \"#FFA15A\", \"#19d3f3\", \"#FF6692\", \"#B6E880\", \"#FF97FF\", \"#FECB52\"], \"font\": {\"color\": \"#2a3f5f\"}, \"geo\": {\"bgcolor\": \"white\", \"lakecolor\": \"white\", \"landcolor\": \"#E5ECF6\", \"showlakes\": true, \"showland\": true, \"subunitcolor\": \"white\"}, \"hoverlabel\": {\"align\": \"left\"}, \"hovermode\": \"closest\", \"mapbox\": {\"style\": \"light\"}, \"paper_bgcolor\": \"white\", \"plot_bgcolor\": \"#E5ECF6\", \"polar\": {\"angularaxis\": {\"gridcolor\": \"white\", \"linecolor\": \"white\", \"ticks\": \"\"}, \"bgcolor\": \"#E5ECF6\", \"radialaxis\": {\"gridcolor\": \"white\", \"linecolor\": \"white\", \"ticks\": \"\"}}, \"scene\": {\"xaxis\": {\"backgroundcolor\": \"#E5ECF6\", \"gridcolor\": \"white\", \"gridwidth\": 2, \"linecolor\": \"white\", \"showbackground\": true, \"ticks\": \"\", \"zerolinecolor\": \"white\"}, \"yaxis\": {\"backgroundcolor\": \"#E5ECF6\", \"gridcolor\": \"white\", \"gridwidth\": 2, \"linecolor\": \"white\", \"showbackground\": true, \"ticks\": \"\", \"zerolinecolor\": \"white\"}, \"zaxis\": {\"backgroundcolor\": \"#E5ECF6\", \"gridcolor\": \"white\", \"gridwidth\": 2, \"linecolor\": \"white\", \"showbackground\": true, \"ticks\": \"\", \"zerolinecolor\": \"white\"}}, \"shapedefaults\": {\"line\": {\"color\": \"#2a3f5f\"}}, \"ternary\": {\"aaxis\": {\"gridcolor\": \"white\", \"linecolor\": \"white\", \"ticks\": \"\"}, \"baxis\": {\"gridcolor\": \"white\", \"linecolor\": \"white\", \"ticks\": \"\"}, \"bgcolor\": \"#E5ECF6\", \"caxis\": {\"gridcolor\": \"white\", \"linecolor\": \"white\", \"ticks\": \"\"}}, \"title\": {\"x\": 0.05}, \"xaxis\": {\"automargin\": true, \"gridcolor\": \"white\", \"linecolor\": \"white\", \"ticks\": \"\", \"title\": {\"standoff\": 15}, \"zerolinecolor\": \"white\", \"zerolinewidth\": 2}, \"yaxis\": {\"automargin\": true, \"gridcolor\": \"white\", \"linecolor\": \"white\", \"ticks\": \"\", \"title\": {\"standoff\": 15}, \"zerolinecolor\": \"white\", \"zerolinewidth\": 2}}}},\n",
       "                        {\"responsive\": true}\n",
       "                    ).then(function(){\n",
       "                            \n",
       "var gd = document.getElementById('64827b60-727a-4c0b-a306-92773657f7bd');\n",
       "var x = new MutationObserver(function (mutations, observer) {{\n",
       "        var display = window.getComputedStyle(gd).display;\n",
       "        if (!display || display === 'none') {{\n",
       "            console.log([gd, 'removed!']);\n",
       "            Plotly.purge(gd);\n",
       "            observer.disconnect();\n",
       "        }}\n",
       "}});\n",
       "\n",
       "// Listen for the removal of the full notebook cells\n",
       "var notebookContainer = gd.closest('#notebook-container');\n",
       "if (notebookContainer) {{\n",
       "    x.observe(notebookContainer, {childList: true});\n",
       "}}\n",
       "\n",
       "// Listen for the clearing of the current output cell\n",
       "var outputEl = gd.closest('.output');\n",
       "if (outputEl) {{\n",
       "    x.observe(outputEl, {childList: true});\n",
       "}}\n",
       "\n",
       "                        })\n",
       "                };\n",
       "                });\n",
       "            </script>\n",
       "        </div>"
      ]
     },
     "metadata": {},
     "output_type": "display_data"
    }
   ],
   "source": [
    "import plotly.express as px\n",
    "fig = px.scatter_mapbox(df, lat=\"lat\", lon=\"long\",color='Price',hover_name='Neighborhood',\n",
    "                        color_discrete_sequence=[\"fuchsia\"], zoom=10, height=500)\n",
    "fig.update_layout(mapbox_style=\"open-street-map\")\n",
    "fig.update_layout(margin={\"r\":0,\"t\":0,\"l\":0,\"b\":0})\n",
    "fig.show()"
   ]
  },
  {
   "cell_type": "markdown",
   "metadata": {},
   "source": [
    "# Regression Model"
   ]
  },
  {
   "cell_type": "markdown",
   "metadata": {},
   "source": [
    "##  Caluate distance between Airbnb and landmarks"
   ]
  },
  {
   "cell_type": "markdown",
   "metadata": {},
   "source": [
    "### Distance to UVA Hospital"
   ]
  },
  {
   "cell_type": "code",
   "execution_count": 96,
   "metadata": {},
   "outputs": [],
   "source": [
    "from math import sin, cos, sqrt, atan2\n",
    "\n",
    "from math import radians, cos, sin, asin, sqrt \n",
    "def distance(lat2, lon2): \n",
    "    lon1 = radians(-78.5180317) \n",
    "    lon2 = radians(lon2) \n",
    "    lat1 = radians(38.0153187) \n",
    "    lat2 = radians(lat2) \n",
    "    dlon = lon2 - lon1  \n",
    "    dlat = lat2 - lat1 \n",
    "    a = sin(dlat / 2)**2 + cos(lat1) * cos(lat2) * sin(dlon / 2)**2\n",
    "  \n",
    "    c = 2 * asin(sqrt(a))\n",
    "    r = 6371\n",
    "    d= c*r\n",
    "    return d"
   ]
  },
  {
   "cell_type": "code",
   "execution_count": 97,
   "metadata": {},
   "outputs": [
    {
     "data": {
      "text/html": [
       "<div>\n",
       "<style scoped>\n",
       "    .dataframe tbody tr th:only-of-type {\n",
       "        vertical-align: middle;\n",
       "    }\n",
       "\n",
       "    .dataframe tbody tr th {\n",
       "        vertical-align: top;\n",
       "    }\n",
       "\n",
       "    .dataframe thead th {\n",
       "        text-align: right;\n",
       "    }\n",
       "</style>\n",
       "<table border=\"1\" class=\"dataframe\">\n",
       "  <thead>\n",
       "    <tr style=\"text-align: right;\">\n",
       "      <th></th>\n",
       "      <th>lat</th>\n",
       "      <th>long</th>\n",
       "    </tr>\n",
       "  </thead>\n",
       "  <tbody>\n",
       "    <tr>\n",
       "      <th>0</th>\n",
       "      <td>38.033436</td>\n",
       "      <td>-78.492183</td>\n",
       "    </tr>\n",
       "    <tr>\n",
       "      <th>1</th>\n",
       "      <td>38.032976</td>\n",
       "      <td>-78.496778</td>\n",
       "    </tr>\n",
       "    <tr>\n",
       "      <th>2</th>\n",
       "      <td>38.033436</td>\n",
       "      <td>-78.492183</td>\n",
       "    </tr>\n",
       "    <tr>\n",
       "      <th>3</th>\n",
       "      <td>38.032976</td>\n",
       "      <td>-78.496778</td>\n",
       "    </tr>\n",
       "    <tr>\n",
       "      <th>4</th>\n",
       "      <td>38.037432</td>\n",
       "      <td>-78.493808</td>\n",
       "    </tr>\n",
       "  </tbody>\n",
       "</table>\n",
       "</div>"
      ],
      "text/plain": [
       "         lat       long\n",
       "0  38.033436 -78.492183\n",
       "1  38.032976 -78.496778\n",
       "2  38.033436 -78.492183\n",
       "3  38.032976 -78.496778\n",
       "4  38.037432 -78.493808"
      ]
     },
     "execution_count": 97,
     "metadata": {},
     "output_type": "execute_result"
    }
   ],
   "source": [
    "Addy=full[['lat','long']]\n",
    "Addy.head()"
   ]
  },
  {
   "cell_type": "code",
   "execution_count": 98,
   "metadata": {},
   "outputs": [
    {
     "data": {
      "text/html": [
       "<div>\n",
       "<style scoped>\n",
       "    .dataframe tbody tr th:only-of-type {\n",
       "        vertical-align: middle;\n",
       "    }\n",
       "\n",
       "    .dataframe tbody tr th {\n",
       "        vertical-align: top;\n",
       "    }\n",
       "\n",
       "    .dataframe thead th {\n",
       "        text-align: right;\n",
       "    }\n",
       "</style>\n",
       "<table border=\"1\" class=\"dataframe\">\n",
       "  <thead>\n",
       "    <tr style=\"text-align: right;\">\n",
       "      <th></th>\n",
       "      <th>lat</th>\n",
       "      <th>long</th>\n",
       "      <th>toUVAHospital</th>\n",
       "    </tr>\n",
       "  </thead>\n",
       "  <tbody>\n",
       "    <tr>\n",
       "      <th>0</th>\n",
       "      <td>38.033436</td>\n",
       "      <td>-78.492183</td>\n",
       "      <td>3.030667</td>\n",
       "    </tr>\n",
       "    <tr>\n",
       "      <th>1</th>\n",
       "      <td>38.032976</td>\n",
       "      <td>-78.496778</td>\n",
       "      <td>2.705708</td>\n",
       "    </tr>\n",
       "    <tr>\n",
       "      <th>2</th>\n",
       "      <td>38.033436</td>\n",
       "      <td>-78.492183</td>\n",
       "      <td>3.030667</td>\n",
       "    </tr>\n",
       "    <tr>\n",
       "      <th>3</th>\n",
       "      <td>38.032976</td>\n",
       "      <td>-78.496778</td>\n",
       "      <td>2.705708</td>\n",
       "    </tr>\n",
       "    <tr>\n",
       "      <th>4</th>\n",
       "      <td>38.037432</td>\n",
       "      <td>-78.493808</td>\n",
       "      <td>3.247783</td>\n",
       "    </tr>\n",
       "  </tbody>\n",
       "</table>\n",
       "</div>"
      ],
      "text/plain": [
       "         lat       long  toUVAHospital\n",
       "0  38.033436 -78.492183       3.030667\n",
       "1  38.032976 -78.496778       2.705708\n",
       "2  38.033436 -78.492183       3.030667\n",
       "3  38.032976 -78.496778       2.705708\n",
       "4  38.037432 -78.493808       3.247783"
      ]
     },
     "execution_count": 98,
     "metadata": {},
     "output_type": "execute_result"
    }
   ],
   "source": [
    "Addy['toUVAHospital'] = np.vectorize(distance)(Addy['lat'], Addy['long'])\n",
    "Addy.head()"
   ]
  },
  {
   "cell_type": "markdown",
   "metadata": {},
   "source": [
    "### Distance to Downtown Mall"
   ]
  },
  {
   "cell_type": "code",
   "execution_count": 99,
   "metadata": {},
   "outputs": [],
   "source": [
    "def distance2(lat2, lon2): \n",
    "    lon1 = radians(-78.4843969) \n",
    "    lon2 = radians(lon2) \n",
    "    lat1 = radians(38.0308109) \n",
    "    lat2 = radians(lat2) \n",
    "    dlon = lon2 - lon1  \n",
    "    dlat = lat2 - lat1 \n",
    "    a = sin(dlat / 2)**2 + cos(lat1) * cos(lat2) * sin(dlon / 2)**2\n",
    "  \n",
    "    c = 2 * asin(sqrt(a))\n",
    "    r = 6371\n",
    "    d= c*r\n",
    "    return d"
   ]
  },
  {
   "cell_type": "code",
   "execution_count": 100,
   "metadata": {},
   "outputs": [
    {
     "data": {
      "text/html": [
       "<div>\n",
       "<style scoped>\n",
       "    .dataframe tbody tr th:only-of-type {\n",
       "        vertical-align: middle;\n",
       "    }\n",
       "\n",
       "    .dataframe tbody tr th {\n",
       "        vertical-align: top;\n",
       "    }\n",
       "\n",
       "    .dataframe thead th {\n",
       "        text-align: right;\n",
       "    }\n",
       "</style>\n",
       "<table border=\"1\" class=\"dataframe\">\n",
       "  <thead>\n",
       "    <tr style=\"text-align: right;\">\n",
       "      <th></th>\n",
       "      <th>lat</th>\n",
       "      <th>long</th>\n",
       "      <th>toUVAHospital</th>\n",
       "      <th>toMall</th>\n",
       "    </tr>\n",
       "  </thead>\n",
       "  <tbody>\n",
       "    <tr>\n",
       "      <th>0</th>\n",
       "      <td>38.033436</td>\n",
       "      <td>-78.492183</td>\n",
       "      <td>3.030667</td>\n",
       "      <td>0.741787</td>\n",
       "    </tr>\n",
       "    <tr>\n",
       "      <th>1</th>\n",
       "      <td>38.032976</td>\n",
       "      <td>-78.496778</td>\n",
       "      <td>2.705708</td>\n",
       "      <td>1.110798</td>\n",
       "    </tr>\n",
       "    <tr>\n",
       "      <th>2</th>\n",
       "      <td>38.033436</td>\n",
       "      <td>-78.492183</td>\n",
       "      <td>3.030667</td>\n",
       "      <td>0.741787</td>\n",
       "    </tr>\n",
       "    <tr>\n",
       "      <th>3</th>\n",
       "      <td>38.032976</td>\n",
       "      <td>-78.496778</td>\n",
       "      <td>2.705708</td>\n",
       "      <td>1.110798</td>\n",
       "    </tr>\n",
       "    <tr>\n",
       "      <th>4</th>\n",
       "      <td>38.037432</td>\n",
       "      <td>-78.493808</td>\n",
       "      <td>3.247783</td>\n",
       "      <td>1.105177</td>\n",
       "    </tr>\n",
       "  </tbody>\n",
       "</table>\n",
       "</div>"
      ],
      "text/plain": [
       "         lat       long  toUVAHospital    toMall\n",
       "0  38.033436 -78.492183       3.030667  0.741787\n",
       "1  38.032976 -78.496778       2.705708  1.110798\n",
       "2  38.033436 -78.492183       3.030667  0.741787\n",
       "3  38.032976 -78.496778       2.705708  1.110798\n",
       "4  38.037432 -78.493808       3.247783  1.105177"
      ]
     },
     "execution_count": 100,
     "metadata": {},
     "output_type": "execute_result"
    }
   ],
   "source": [
    "Addy['toMall'] = np.vectorize(distance2)(Addy['lat'], Addy['long'])\n",
    "Addy.head()"
   ]
  },
  {
   "cell_type": "code",
   "execution_count": 101,
   "metadata": {},
   "outputs": [],
   "source": [
    "full = full.join(Addy[['toUVAHospital','toMall']])"
   ]
  },
  {
   "cell_type": "code",
   "execution_count": 102,
   "metadata": {},
   "outputs": [],
   "source": [
    "full=full.drop(['Host ID','Listing ID','lat','long','City','PricePerPerson'], axis = 1)"
   ]
  },
  {
   "cell_type": "code",
   "execution_count": 103,
   "metadata": {},
   "outputs": [
    {
     "data": {
      "text/html": [
       "<div>\n",
       "<style scoped>\n",
       "    .dataframe tbody tr th:only-of-type {\n",
       "        vertical-align: middle;\n",
       "    }\n",
       "\n",
       "    .dataframe tbody tr th {\n",
       "        vertical-align: top;\n",
       "    }\n",
       "\n",
       "    .dataframe thead th {\n",
       "        text-align: right;\n",
       "    }\n",
       "</style>\n",
       "<table border=\"1\" class=\"dataframe\">\n",
       "  <thead>\n",
       "    <tr style=\"text-align: right;\">\n",
       "      <th></th>\n",
       "      <th>Num Reviews</th>\n",
       "      <th>Average Rating</th>\n",
       "      <th>Price</th>\n",
       "      <th>Bedrooms</th>\n",
       "      <th>Max Guests</th>\n",
       "      <th>Livability Score</th>\n",
       "      <th>Walk Score</th>\n",
       "      <th>Transit Score</th>\n",
       "      <th>Bike Score</th>\n",
       "      <th>Population</th>\n",
       "      <th>toUVAHospital</th>\n",
       "      <th>toMall</th>\n",
       "      <th>Room Type_Entire home/apt</th>\n",
       "      <th>Room Type_Private room</th>\n",
       "      <th>Neighborhood_10th and Page</th>\n",
       "      <th>Neighborhood_Barracks Road</th>\n",
       "      <th>Neighborhood_Barracks Rugby</th>\n",
       "      <th>Neighborhood_Belmont</th>\n",
       "      <th>Neighborhood_Fifeville</th>\n",
       "      <th>Neighborhood_Fry Spring</th>\n",
       "      <th>Neighborhood_Greenbrier</th>\n",
       "      <th>Neighborhood_Jefferson Park</th>\n",
       "      <th>Neighborhood_Johnson Village</th>\n",
       "      <th>Neighborhood_Lewis Mountain</th>\n",
       "      <th>Neighborhood_Locust Grove</th>\n",
       "      <th>Neighborhood_Martha Jefferson</th>\n",
       "      <th>Neighborhood_North Downtown</th>\n",
       "      <th>Neighborhood_Ridge Street</th>\n",
       "      <th>Neighborhood_Rose Hill</th>\n",
       "      <th>Neighborhood_Starr Hill</th>\n",
       "      <th>Neighborhood_Venable</th>\n",
       "      <th>Neighborhood_Woolen Mills</th>\n",
       "    </tr>\n",
       "  </thead>\n",
       "  <tbody>\n",
       "    <tr>\n",
       "      <th>0</th>\n",
       "      <td>0.0</td>\n",
       "      <td>0.0</td>\n",
       "      <td>141.0</td>\n",
       "      <td>1.0</td>\n",
       "      <td>1.0</td>\n",
       "      <td>62</td>\n",
       "      <td>89.0</td>\n",
       "      <td>46.0</td>\n",
       "      <td>79.0</td>\n",
       "      <td>1105.0</td>\n",
       "      <td>3.030667</td>\n",
       "      <td>0.741787</td>\n",
       "      <td>0</td>\n",
       "      <td>1</td>\n",
       "      <td>1</td>\n",
       "      <td>0</td>\n",
       "      <td>0</td>\n",
       "      <td>0</td>\n",
       "      <td>0</td>\n",
       "      <td>0</td>\n",
       "      <td>0</td>\n",
       "      <td>0</td>\n",
       "      <td>0</td>\n",
       "      <td>0</td>\n",
       "      <td>0</td>\n",
       "      <td>0</td>\n",
       "      <td>0</td>\n",
       "      <td>0</td>\n",
       "      <td>0</td>\n",
       "      <td>0</td>\n",
       "      <td>0</td>\n",
       "      <td>0</td>\n",
       "    </tr>\n",
       "    <tr>\n",
       "      <th>1</th>\n",
       "      <td>0.0</td>\n",
       "      <td>0.0</td>\n",
       "      <td>164.0</td>\n",
       "      <td>1.0</td>\n",
       "      <td>2.0</td>\n",
       "      <td>62</td>\n",
       "      <td>89.0</td>\n",
       "      <td>46.0</td>\n",
       "      <td>79.0</td>\n",
       "      <td>1105.0</td>\n",
       "      <td>2.705708</td>\n",
       "      <td>1.110798</td>\n",
       "      <td>0</td>\n",
       "      <td>1</td>\n",
       "      <td>1</td>\n",
       "      <td>0</td>\n",
       "      <td>0</td>\n",
       "      <td>0</td>\n",
       "      <td>0</td>\n",
       "      <td>0</td>\n",
       "      <td>0</td>\n",
       "      <td>0</td>\n",
       "      <td>0</td>\n",
       "      <td>0</td>\n",
       "      <td>0</td>\n",
       "      <td>0</td>\n",
       "      <td>0</td>\n",
       "      <td>0</td>\n",
       "      <td>0</td>\n",
       "      <td>0</td>\n",
       "      <td>0</td>\n",
       "      <td>0</td>\n",
       "    </tr>\n",
       "    <tr>\n",
       "      <th>2</th>\n",
       "      <td>0.0</td>\n",
       "      <td>0.0</td>\n",
       "      <td>141.0</td>\n",
       "      <td>1.0</td>\n",
       "      <td>1.0</td>\n",
       "      <td>62</td>\n",
       "      <td>89.0</td>\n",
       "      <td>46.0</td>\n",
       "      <td>79.0</td>\n",
       "      <td>1105.0</td>\n",
       "      <td>3.030667</td>\n",
       "      <td>0.741787</td>\n",
       "      <td>0</td>\n",
       "      <td>1</td>\n",
       "      <td>1</td>\n",
       "      <td>0</td>\n",
       "      <td>0</td>\n",
       "      <td>0</td>\n",
       "      <td>0</td>\n",
       "      <td>0</td>\n",
       "      <td>0</td>\n",
       "      <td>0</td>\n",
       "      <td>0</td>\n",
       "      <td>0</td>\n",
       "      <td>0</td>\n",
       "      <td>0</td>\n",
       "      <td>0</td>\n",
       "      <td>0</td>\n",
       "      <td>0</td>\n",
       "      <td>0</td>\n",
       "      <td>0</td>\n",
       "      <td>0</td>\n",
       "    </tr>\n",
       "    <tr>\n",
       "      <th>3</th>\n",
       "      <td>0.0</td>\n",
       "      <td>0.0</td>\n",
       "      <td>164.0</td>\n",
       "      <td>1.0</td>\n",
       "      <td>2.0</td>\n",
       "      <td>62</td>\n",
       "      <td>89.0</td>\n",
       "      <td>46.0</td>\n",
       "      <td>79.0</td>\n",
       "      <td>1105.0</td>\n",
       "      <td>2.705708</td>\n",
       "      <td>1.110798</td>\n",
       "      <td>0</td>\n",
       "      <td>1</td>\n",
       "      <td>1</td>\n",
       "      <td>0</td>\n",
       "      <td>0</td>\n",
       "      <td>0</td>\n",
       "      <td>0</td>\n",
       "      <td>0</td>\n",
       "      <td>0</td>\n",
       "      <td>0</td>\n",
       "      <td>0</td>\n",
       "      <td>0</td>\n",
       "      <td>0</td>\n",
       "      <td>0</td>\n",
       "      <td>0</td>\n",
       "      <td>0</td>\n",
       "      <td>0</td>\n",
       "      <td>0</td>\n",
       "      <td>0</td>\n",
       "      <td>0</td>\n",
       "    </tr>\n",
       "    <tr>\n",
       "      <th>4</th>\n",
       "      <td>16.0</td>\n",
       "      <td>4.5</td>\n",
       "      <td>59.0</td>\n",
       "      <td>1.0</td>\n",
       "      <td>2.0</td>\n",
       "      <td>62</td>\n",
       "      <td>89.0</td>\n",
       "      <td>46.0</td>\n",
       "      <td>79.0</td>\n",
       "      <td>1105.0</td>\n",
       "      <td>3.247783</td>\n",
       "      <td>1.105177</td>\n",
       "      <td>1</td>\n",
       "      <td>0</td>\n",
       "      <td>1</td>\n",
       "      <td>0</td>\n",
       "      <td>0</td>\n",
       "      <td>0</td>\n",
       "      <td>0</td>\n",
       "      <td>0</td>\n",
       "      <td>0</td>\n",
       "      <td>0</td>\n",
       "      <td>0</td>\n",
       "      <td>0</td>\n",
       "      <td>0</td>\n",
       "      <td>0</td>\n",
       "      <td>0</td>\n",
       "      <td>0</td>\n",
       "      <td>0</td>\n",
       "      <td>0</td>\n",
       "      <td>0</td>\n",
       "      <td>0</td>\n",
       "    </tr>\n",
       "  </tbody>\n",
       "</table>\n",
       "</div>"
      ],
      "text/plain": [
       "   Num Reviews  Average Rating  Price  Bedrooms  Max Guests  Livability Score  \\\n",
       "0          0.0             0.0  141.0       1.0         1.0                62   \n",
       "1          0.0             0.0  164.0       1.0         2.0                62   \n",
       "2          0.0             0.0  141.0       1.0         1.0                62   \n",
       "3          0.0             0.0  164.0       1.0         2.0                62   \n",
       "4         16.0             4.5   59.0       1.0         2.0                62   \n",
       "\n",
       "   Walk Score  Transit Score  Bike Score  Population  toUVAHospital    toMall  \\\n",
       "0        89.0           46.0        79.0      1105.0       3.030667  0.741787   \n",
       "1        89.0           46.0        79.0      1105.0       2.705708  1.110798   \n",
       "2        89.0           46.0        79.0      1105.0       3.030667  0.741787   \n",
       "3        89.0           46.0        79.0      1105.0       2.705708  1.110798   \n",
       "4        89.0           46.0        79.0      1105.0       3.247783  1.105177   \n",
       "\n",
       "   Room Type_Entire home/apt  Room Type_Private room  \\\n",
       "0                          0                       1   \n",
       "1                          0                       1   \n",
       "2                          0                       1   \n",
       "3                          0                       1   \n",
       "4                          1                       0   \n",
       "\n",
       "   Neighborhood_10th and Page  Neighborhood_Barracks Road  \\\n",
       "0                           1                           0   \n",
       "1                           1                           0   \n",
       "2                           1                           0   \n",
       "3                           1                           0   \n",
       "4                           1                           0   \n",
       "\n",
       "   Neighborhood_Barracks Rugby  Neighborhood_Belmont  Neighborhood_Fifeville  \\\n",
       "0                            0                     0                       0   \n",
       "1                            0                     0                       0   \n",
       "2                            0                     0                       0   \n",
       "3                            0                     0                       0   \n",
       "4                            0                     0                       0   \n",
       "\n",
       "   Neighborhood_Fry Spring  Neighborhood_Greenbrier  \\\n",
       "0                        0                        0   \n",
       "1                        0                        0   \n",
       "2                        0                        0   \n",
       "3                        0                        0   \n",
       "4                        0                        0   \n",
       "\n",
       "   Neighborhood_Jefferson Park  Neighborhood_Johnson Village  \\\n",
       "0                            0                             0   \n",
       "1                            0                             0   \n",
       "2                            0                             0   \n",
       "3                            0                             0   \n",
       "4                            0                             0   \n",
       "\n",
       "   Neighborhood_Lewis Mountain  Neighborhood_Locust Grove  \\\n",
       "0                            0                          0   \n",
       "1                            0                          0   \n",
       "2                            0                          0   \n",
       "3                            0                          0   \n",
       "4                            0                          0   \n",
       "\n",
       "   Neighborhood_Martha Jefferson  Neighborhood_North Downtown  \\\n",
       "0                              0                            0   \n",
       "1                              0                            0   \n",
       "2                              0                            0   \n",
       "3                              0                            0   \n",
       "4                              0                            0   \n",
       "\n",
       "   Neighborhood_Ridge Street  Neighborhood_Rose Hill  Neighborhood_Starr Hill  \\\n",
       "0                          0                       0                        0   \n",
       "1                          0                       0                        0   \n",
       "2                          0                       0                        0   \n",
       "3                          0                       0                        0   \n",
       "4                          0                       0                        0   \n",
       "\n",
       "   Neighborhood_Venable  Neighborhood_Woolen Mills  \n",
       "0                     0                          0  \n",
       "1                     0                          0  \n",
       "2                     0                          0  \n",
       "3                     0                          0  \n",
       "4                     0                          0  "
      ]
     },
     "execution_count": 103,
     "metadata": {},
     "output_type": "execute_result"
    }
   ],
   "source": [
    "full=pd.get_dummies(data=full, columns=['Room Type', 'Neighborhood'])\n",
    "full.head()"
   ]
  },
  {
   "cell_type": "code",
   "execution_count": 104,
   "metadata": {},
   "outputs": [],
   "source": [
    "X= full.drop(['Price'], axis = 1) #segment data into features x and price label y\n",
    "y = full.Price"
   ]
  },
  {
   "cell_type": "code",
   "execution_count": 105,
   "metadata": {},
   "outputs": [
    {
     "data": {
      "text/plain": [
       "['Num Reviews',\n",
       " 'Average Rating',\n",
       " 'Bedrooms',\n",
       " 'Max Guests',\n",
       " 'Livability Score',\n",
       " 'Walk Score',\n",
       " 'Transit Score',\n",
       " 'Bike Score',\n",
       " 'Population',\n",
       " 'toUVAHospital',\n",
       " 'toMall',\n",
       " 'Room Type_Entire home/apt',\n",
       " 'Room Type_Private room',\n",
       " 'Neighborhood_10th and Page',\n",
       " 'Neighborhood_Barracks Road',\n",
       " 'Neighborhood_Barracks Rugby',\n",
       " 'Neighborhood_Belmont',\n",
       " 'Neighborhood_Fifeville',\n",
       " 'Neighborhood_Fry Spring',\n",
       " 'Neighborhood_Greenbrier',\n",
       " 'Neighborhood_Jefferson Park',\n",
       " 'Neighborhood_Johnson Village',\n",
       " 'Neighborhood_Lewis Mountain',\n",
       " 'Neighborhood_Locust Grove',\n",
       " 'Neighborhood_Martha Jefferson',\n",
       " 'Neighborhood_North Downtown',\n",
       " 'Neighborhood_Ridge Street',\n",
       " 'Neighborhood_Rose Hill',\n",
       " 'Neighborhood_Starr Hill',\n",
       " 'Neighborhood_Venable',\n",
       " 'Neighborhood_Woolen Mills']"
      ]
     },
     "execution_count": 105,
     "metadata": {},
     "output_type": "execute_result"
    }
   ],
   "source": [
    "fnames = list(X.columns)\n",
    "fnames"
   ]
  },
  {
   "cell_type": "markdown",
   "metadata": {},
   "source": [
    "## Develop Regression Model"
   ]
  },
  {
   "cell_type": "code",
   "execution_count": 106,
   "metadata": {},
   "outputs": [],
   "source": [
    "from sklearn.model_selection import train_test_split #split data set into test and train\n",
    "X_train, X_test, y_train, y_test = train_test_split(X, y, test_size=0.33, random_state = 1)"
   ]
  },
  {
   "cell_type": "code",
   "execution_count": 115,
   "metadata": {},
   "outputs": [
    {
     "name": "stdout",
     "output_type": "stream",
     "text": [
      "                            OLS Regression Results                            \n",
      "==============================================================================\n",
      "Dep. Variable:                  Price   R-squared:                       0.634\n",
      "Model:                            OLS   Adj. R-squared:                  0.600\n",
      "Method:                 Least Squares   F-statistic:                     18.71\n",
      "Date:                Sun, 20 Sep 2020   Prob (F-statistic):           7.50e-42\n",
      "Time:                        17:54:46   Log-Likelihood:                -1702.1\n",
      "No. Observations:                 272   AIC:                             3452.\n",
      "Df Residuals:                     248   BIC:                             3539.\n",
      "Df Model:                          23                                         \n",
      "Covariance Type:            nonrobust                                         \n",
      "=================================================================================================\n",
      "                                    coef    std err          t      P>|t|      [0.025      0.975]\n",
      "-------------------------------------------------------------------------------------------------\n",
      "const                            12.5590     14.967      0.839      0.402     -16.920      42.038\n",
      "Num Reviews                      -0.3578      0.220     -1.625      0.105      -0.791       0.076\n",
      "Average Rating                  -15.7571      4.319     -3.648      0.000     -24.264      -7.250\n",
      "Bedrooms                         35.9296     13.685      2.625      0.009       8.975      62.884\n",
      "Max Guests                       42.2736      6.540      6.464      0.000      29.392      55.155\n",
      "Livability Score                  5.6092      2.723      2.060      0.040       0.246      10.973\n",
      "Walk Score                        3.3180      2.881      1.151      0.251      -2.357       8.993\n",
      "Transit Score                    -5.4277      4.085     -1.329      0.185     -13.473       2.617\n",
      "Bike Score                       -3.4223      3.711     -0.922      0.357     -10.732       3.887\n",
      "Population                       -0.0113      0.009     -1.317      0.189      -0.028       0.006\n",
      "toUVAHospital                   -40.1292     22.922     -1.751      0.081     -85.276       5.018\n",
      "toMall                          -26.7579     22.808     -1.173      0.242     -71.681      18.165\n",
      "Room Type_Entire home/apt        12.3028     13.276      0.927      0.355     -13.846      38.451\n",
      "Room Type_Private room            0.2562     13.653      0.019      0.985     -26.634      27.146\n",
      "Neighborhood_10th and Page       36.1572     61.239      0.590      0.555     -84.457     156.772\n",
      "Neighborhood_Barracks Road      -96.4702     54.927     -1.756      0.080    -204.652      11.712\n",
      "Neighborhood_Barracks Rugby     -59.3625     39.048     -1.520      0.130    -136.271      17.546\n",
      "Neighborhood_Belmont            -14.3467     24.461     -0.587      0.558     -62.525      33.832\n",
      "Neighborhood_Fifeville          -50.7462     34.137     -1.487      0.138    -117.982      16.490\n",
      "Neighborhood_Fry Spring         -65.8728     62.502     -1.054      0.293    -188.976      57.230\n",
      "Neighborhood_Greenbrier         177.5369     97.596      1.819      0.070     -14.686     369.760\n",
      "Neighborhood_Jefferson Park    -100.3139     43.143     -2.325      0.021    -185.287     -15.341\n",
      "Neighborhood_Johnson Village    -71.5501     43.413     -1.648      0.101    -157.056      13.956\n",
      "Neighborhood_Lewis Mountain      49.0580     30.684      1.599      0.111     -11.377     109.493\n",
      "Neighborhood_Locust Grove        72.5023     48.695      1.489      0.138     -23.406     168.411\n",
      "Neighborhood_Martha Jefferson     6.0998     33.517      0.182      0.856     -59.915      72.114\n",
      "Neighborhood_North Downtown       8.1674     39.257      0.208      0.835     -69.153      85.488\n",
      "Neighborhood_Ridge Street        22.0129     35.389      0.622      0.534     -47.689      91.715\n",
      "Neighborhood_Rose Hill                 0          0        nan        nan           0           0\n",
      "Neighborhood_Starr Hill          62.0899     84.339      0.736      0.462    -104.022     228.202\n",
      "Neighborhood_Venable             54.8933     25.612      2.143      0.033       4.448     105.338\n",
      "Neighborhood_Woolen Mills       -17.2962     40.195     -0.430      0.667     -96.463      61.871\n",
      "==============================================================================\n",
      "Omnibus:                       59.313   Durbin-Watson:                   1.999\n",
      "Prob(Omnibus):                  0.000   Jarque-Bera (JB):              177.751\n",
      "Skew:                           0.940   Prob(JB):                     2.52e-39\n",
      "Kurtosis:                       6.485   Cond. No.                     3.62e+19\n",
      "==============================================================================\n",
      "\n",
      "Warnings:\n",
      "[1] Standard Errors assume that the covariance matrix of the errors is correctly specified.\n",
      "[2] The smallest eigenvalue is 2.4e-30. This might indicate that there are\n",
      "strong multicollinearity problems or that the design matrix is singular.\n"
     ]
    }
   ],
   "source": [
    "import statsmodels.api as sm    \n",
    "from scipy import stats\n",
    "\n",
    "X2 = sm.add_constant(X_train)         #create a model and fit it in the train set\n",
    "est = sm.OLS(y_train, X2)\n",
    "est2 = est.fit()\n",
    "print(est2.summary())"
   ]
  },
  {
   "cell_type": "code",
   "execution_count": null,
   "metadata": {},
   "outputs": [],
   "source": [
    "# The statistics summary indicate some of the features that are statistically significant at 10% or lower are \n",
    "# Average Rating, No of Bedrooms, Max no of Guests, Livability Score, distance to UVA Hospital, \n",
    "# Neighborhood in Barracks Road, Greenbrier, Jefferson Park, Venable."
   ]
  },
  {
   "cell_type": "code",
   "execution_count": 117,
   "metadata": {},
   "outputs": [],
   "source": [
    "price_y_pred = regr.predict(X_test)"
   ]
  },
  {
   "cell_type": "code",
   "execution_count": 118,
   "metadata": {},
   "outputs": [
    {
     "name": "stdout",
     "output_type": "stream",
     "text": [
      "Coefficients: \n",
      " [-3.57781177e-01 -1.57570908e+01  3.59296370e+01  4.22736236e+01\n",
      "  3.71616559e+00  3.14943545e+00 -6.42822080e+00 -3.65000800e+00\n",
      " -9.09147563e-03 -4.01291670e+01 -2.67578908e+01  6.02329702e+00\n",
      " -6.02329702e+00  2.99785479e+01 -1.03689310e+02 -6.26031608e+01\n",
      " -1.45766439e+01 -3.68046506e+01 -6.18105468e+01  1.75541709e+02\n",
      " -1.14554572e+02 -5.99290444e+01  5.56787283e+01  4.49690587e+01\n",
      "  2.08196041e+01  2.91523266e+01  6.01537959e+00  0.00000000e+00\n",
      "  5.05422239e+01  5.62479463e+01 -1.49775965e+01]\n",
      "Mean squared error: 39621.76\n",
      "Coefficient of determination: 0.50\n"
     ]
    }
   ],
   "source": [
    "from sklearn.metrics import mean_squared_error, r2_score\n",
    "print('Coefficients: \\n', regr.coef_)\n",
    "print('Mean squared error: %.2f'\n",
    "      % mean_squared_error(y_test, price_y_pred))\n",
    "print('Coefficient of determination: %.2f'\n",
    "      % r2_score(y_test, price_y_pred))"
   ]
  },
  {
   "cell_type": "code",
   "execution_count": 119,
   "metadata": {},
   "outputs": [],
   "source": [
    "# The model explains 50% of the test set."
   ]
  }
 ],
 "metadata": {
  "kernelspec": {
   "display_name": "Python 3",
   "language": "python",
   "name": "python3"
  },
  "language_info": {
   "codemirror_mode": {
    "name": "ipython",
    "version": 3
   },
   "file_extension": ".py",
   "mimetype": "text/x-python",
   "name": "python",
   "nbconvert_exporter": "python",
   "pygments_lexer": "ipython3",
   "version": "3.8.3"
  },
  "toc": {
   "base_numbering": 1,
   "nav_menu": {},
   "number_sections": true,
   "sideBar": true,
   "skip_h1_title": false,
   "title_cell": "Table of Contents",
   "title_sidebar": "Contents",
   "toc_cell": false,
   "toc_position": {},
   "toc_section_display": true,
   "toc_window_display": false
  }
 },
 "nbformat": 4,
 "nbformat_minor": 4
}
